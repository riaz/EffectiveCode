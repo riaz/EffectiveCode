{
 "cells": [
  {
   "cell_type": "code",
   "execution_count": null,
   "metadata": {},
   "outputs": [],
   "source": [
    "# Note: we will be using jina embedding which has 8K context length hence useful with larger context\n",
    "# Jina is based on the jinaBERT architecture, and supports symmetric bidirectional variant of ALiBi."
   ]
  },
  {
   "cell_type": "code",
   "execution_count": 1,
   "metadata": {},
   "outputs": [],
   "source": [
    "from transformers import AutoModel\n",
    "from numpy.linalg import norm"
   ]
  },
  {
   "cell_type": "code",
   "execution_count": 2,
   "metadata": {},
   "outputs": [],
   "source": [
    "cos_sim = lambda a,b : (a @ b.T) / (norm(a) * norm(b)) # @ is used for matrix multiplication"
   ]
  },
  {
   "cell_type": "code",
   "execution_count": 3,
   "metadata": {},
   "outputs": [
    {
     "name": "stderr",
     "output_type": "stream",
     "text": [
      "/Users/riaz/miniconda3/envs/cookbook/lib/python3.10/site-packages/huggingface_hub/file_download.py:1132: FutureWarning: `resume_download` is deprecated and will be removed in version 1.0.0. Downloads always resume when possible. If you want to force a new download, use `force_download=True`.\n",
      "  warnings.warn(\n"
     ]
    },
    {
     "data": {
      "application/vnd.jupyter.widget-view+json": {
       "model_id": "26e01f4960664ac49bf4ded0617a40ac",
       "version_major": 2,
       "version_minor": 0
      },
      "text/plain": [
       "config.json:   0%|          | 0.00/1.18k [00:00<?, ?B/s]"
      ]
     },
     "metadata": {},
     "output_type": "display_data"
    },
    {
     "data": {
      "application/vnd.jupyter.widget-view+json": {
       "model_id": "efa83ae56bd14ad58e36e5add166a5c2",
       "version_major": 2,
       "version_minor": 0
      },
      "text/plain": [
       "configuration_bert.py:   0%|          | 0.00/8.24k [00:00<?, ?B/s]"
      ]
     },
     "metadata": {},
     "output_type": "display_data"
    },
    {
     "name": "stderr",
     "output_type": "stream",
     "text": [
      "A new version of the following files was downloaded from https://huggingface.co/jinaai/jina-bert-implementation:\n",
      "- configuration_bert.py\n",
      ". Make sure to double-check they do not contain any added malicious code. To avoid downloading new versions of the code file, you can pin a revision.\n"
     ]
    },
    {
     "data": {
      "application/vnd.jupyter.widget-view+json": {
       "model_id": "84ecc1913ad74753a7518db71fbdcdfe",
       "version_major": 2,
       "version_minor": 0
      },
      "text/plain": [
       "modeling_bert.py:   0%|          | 0.00/97.7k [00:00<?, ?B/s]"
      ]
     },
     "metadata": {},
     "output_type": "display_data"
    },
    {
     "name": "stderr",
     "output_type": "stream",
     "text": [
      "A new version of the following files was downloaded from https://huggingface.co/jinaai/jina-bert-implementation:\n",
      "- modeling_bert.py\n",
      ". Make sure to double-check they do not contain any added malicious code. To avoid downloading new versions of the code file, you can pin a revision.\n",
      "/Users/riaz/miniconda3/envs/cookbook/lib/python3.10/site-packages/huggingface_hub/file_download.py:1132: FutureWarning: `resume_download` is deprecated and will be removed in version 1.0.0. Downloads always resume when possible. If you want to force a new download, use `force_download=True`.\n",
      "  warnings.warn(\n"
     ]
    },
    {
     "data": {
      "application/vnd.jupyter.widget-view+json": {
       "model_id": "9c87ff9d1fc843c69ec16baa704631dd",
       "version_major": 2,
       "version_minor": 0
      },
      "text/plain": [
       "model.safetensors:   0%|          | 0.00/275M [00:00<?, ?B/s]"
      ]
     },
     "metadata": {},
     "output_type": "display_data"
    },
    {
     "data": {
      "application/vnd.jupyter.widget-view+json": {
       "model_id": "bf62d198b42b49cb93e7c74ee1f6ded8",
       "version_major": 2,
       "version_minor": 0
      },
      "text/plain": [
       "tokenizer_config.json:   0%|          | 0.00/373 [00:00<?, ?B/s]"
      ]
     },
     "metadata": {},
     "output_type": "display_data"
    },
    {
     "data": {
      "application/vnd.jupyter.widget-view+json": {
       "model_id": "40f20799db7b4d4eb41b56cf2607313f",
       "version_major": 2,
       "version_minor": 0
      },
      "text/plain": [
       "vocab.txt:   0%|          | 0.00/232k [00:00<?, ?B/s]"
      ]
     },
     "metadata": {},
     "output_type": "display_data"
    },
    {
     "data": {
      "application/vnd.jupyter.widget-view+json": {
       "model_id": "022396d019794ab5afca3d315c6053fe",
       "version_major": 2,
       "version_minor": 0
      },
      "text/plain": [
       "tokenizer.json:   0%|          | 0.00/712k [00:00<?, ?B/s]"
      ]
     },
     "metadata": {},
     "output_type": "display_data"
    },
    {
     "data": {
      "application/vnd.jupyter.widget-view+json": {
       "model_id": "9db2495b547f4bb3baba1b82bfdf90b0",
       "version_major": 2,
       "version_minor": 0
      },
      "text/plain": [
       "special_tokens_map.json:   0%|          | 0.00/125 [00:00<?, ?B/s]"
      ]
     },
     "metadata": {},
     "output_type": "display_data"
    },
    {
     "name": "stdout",
     "output_type": "stream",
     "text": [
      "0.91080654\n"
     ]
    }
   ],
   "source": [
    "model = AutoModel.from_pretrained(\"jinaai/jina-embeddings-v2-base-en\", trust_remote_code=True)\n",
    "embeddings = model.encode([\"How is the weather today\", \"What is the current weather like?\"])\n",
    "\n",
    "print(cos_sim(embeddings[0], embeddings[1]))"
   ]
  },
  {
   "cell_type": "code",
   "execution_count": null,
   "metadata": {},
   "outputs": [],
   "source": [
    "### Note: the original demo uses HF inference endpoints but we are running this locally on a mac"
   ]
  },
  {
   "cell_type": "code",
   "execution_count": 23,
   "metadata": {},
   "outputs": [],
   "source": [
    "# managing imports \n",
    "import asyncio\n",
    "import json\n",
    "from pathlib import Path\n",
    "import time\n",
    "from tqdm import tqdm\n",
    "\n",
    "from typing import Optional\n",
    "from datasets import load_dataset, Dataset, DatasetDict\n",
    "\n",
    "import numpy as np\n",
    "import pandas as pd"
   ]
  },
  {
   "cell_type": "code",
   "execution_count": 9,
   "metadata": {},
   "outputs": [],
   "source": [
    "# We will create embeddings of a reddit dataset\n",
    "DATASET_IN = \"derek-thomas/dataset-creator-reddit-bestofredditorupdates\"\n",
    "DATASET_OUT = \"data/processed-embeddings\"\n",
    "\n",
    "MAX_WORKERS = 5\n",
    "ROW_COUNT = 100"
   ]
  },
  {
   "cell_type": "code",
   "execution_count": 10,
   "metadata": {},
   "outputs": [
    {
     "data": {
      "application/vnd.jupyter.widget-view+json": {
       "model_id": "4990b938fac741ee904533928faeee28",
       "version_major": 2,
       "version_minor": 0
      },
      "text/plain": [
       "Downloading readme:   0%|          | 0.00/1.53k [00:00<?, ?B/s]"
      ]
     },
     "metadata": {},
     "output_type": "display_data"
    },
    {
     "data": {
      "application/vnd.jupyter.widget-view+json": {
       "model_id": "9d6443113acc4bdd9ca83a9f9585bc24",
       "version_major": 2,
       "version_minor": 0
      },
      "text/plain": [
       "Downloading data:   0%|          | 0.00/46.3M [00:00<?, ?B/s]"
      ]
     },
     "metadata": {},
     "output_type": "display_data"
    },
    {
     "data": {
      "application/vnd.jupyter.widget-view+json": {
       "model_id": "e7d411ca10b54e01936a67fbc16dba56",
       "version_major": 2,
       "version_minor": 0
      },
      "text/plain": [
       "Generating train split:   0%|          | 0/11595 [00:00<?, ? examples/s]"
      ]
     },
     "metadata": {},
     "output_type": "display_data"
    }
   ],
   "source": [
    "dataset = load_dataset(DATASET_IN)"
   ]
  },
  {
   "cell_type": "code",
   "execution_count": 11,
   "metadata": {},
   "outputs": [],
   "source": [
    "# train data as pandas\n",
    "documents = dataset[\"train\"].to_pandas().to_dict(\"records\")[:ROW_COUNT]"
   ]
  },
  {
   "cell_type": "code",
   "execution_count": 14,
   "metadata": {},
   "outputs": [
    {
     "data": {
      "text/plain": [
       "(100,\n",
       " {'id': '10025jy',\n",
       "  'content': '**I am not the original poster. Originally posted by**  [u/dude-wheres-my-car](https://www.reddit.com/user/dude-wheres-my-car/)  **in 2015 in** r/legaladvice\\n\\n&amp;#x200B;\\n\\n[**Car was mistakenly towed from my own parking spot and tow company won\\'t release my car without paying huge storage fees**](https://www.reddit.com/r/legaladvice/comments/3x45v9/car_was_mistakenly_towed_from_my_own_parking_spot/) (16 Dec 2015)\\n\\nI own a condo that I am remodeling before renting it out again. The condo has 2 numbered parking spaces in an *oversized driveway*. My in-laws have been staying with us for the holidays, so we parked one of our cars (a black Land Cruiser) at the condo 2 weeks ago. Annoyingly, there was a dark red Toyota 4runner illegally parked there. We called the tow company contracted to our property and gave them the make/model, color, plate number, and the number of the spot. They said would tow the car. We parked our Land Cruiser in our other parking spot and went home.\\n\\nLast night, I went to get the car and it was gone! I reported it stolen. Quite annoyingly, the red 4runner was still there. While I was on the phone talking to the police, my wife called the tow company to confirm that they towed the car I called about 2 weeks ago. They said they did and said it was still there. They towed MY CAR! They towed the black land cruiser parked in spot #2, instead of the red 4runner parked in spot #1. They didn\\'t even bother to check the plates, or the model, or the color.\\n\\nAt the lot, they said that in order to release my car, I would have to pay the tow fees and the 2 week storage fee before they would release my car. The manager sort of acknowledged that they made an error but kept on saying that it was company policy for the fee to be paid before a release. He said they would be willing to waive the tow fee as it was their error, but I am still responsible for the storage fees which is over $1000.\\n\\nThe cops said this was a civil matter and they couldn\\'t intervene.\\n\\nWhat are my options?\\n\\n1. Is there any legal action that I can do to get my car back **today** without paying $1000? They screwed up, not me. I have the money but my life is so crazy that I don\\'t really have time to sue in small claims court and deal with that hassle plus trying to collect if I win.\\n2. They said if I didn\\'t pay today, the daily fee continues to accrue. If I don\\'t pick it up today, is there a way to stop them from continuing to charge their daily storage fee as they admitted the car was towed in error?\\n3. The lot has no gate. Can I just get in my truck and drive it away? They said that I would be arrested for car theft if I did.\\n\\n**TL;DR** \\\\- tow company towed my car mistakenly. They won\\'t release my car unless I pay them storage fees. Help.\\n\\n&amp;#x200B;\\n\\n**Relevant Comment:**\\n\\nOne commenter doesn\\'t understand how this isn\\'t theft.  [A\\\\_Soporific](https://www.reddit.com/user/A_Soporific/)  explains: \\n\\nIn this case the business had a contract that included permission to take cars from a lot and licensing that gives them permission to take and hold cars from the state. They were asked to take a car from a lot they were authorized to and did so. There\\'s nothing *criminal* about that. There was no intent to break the law and simply having the car in the lot isn\\'t a crime because they were authorized to do so.\\n\\nThe State doesn\\'t have a dog in the fight, no one intentionally did anything that violates a law.\\n\\nThe owner of the car is being wronged and a *tort* has been committed by the tow lot. What is the difference? A tort comes from simple negligence that causes another harm. Many things are both a tort and a crime, but due to the licensing and contractual authorizations in this case it\\'s not a crime. It\\'s not stealing to move a thing that you are permitted to move from one place to another. It is stealing to move a thing that you are *NOT* authorized to move.\\n\\nThe police aren\\'t triers of fact. They don\\'t know who is right and wrong and bringing an implicit threat of force into arguments isn\\'t a good way to bury them once and for all. Rather than making a guy with a gun decide on the spot we have a system that keeps the police sidelined in these cases and makes people resolve these disputes *civilly*. And by that I mean in court.\\n\\nThey admitted guilt, which makes this case pretty much a slam dunk, but asking the police to pick sides in every case like this is just more trouble than it\\'s worth.\\n\\n&amp;#x200B;\\n\\n[**UPDATE: Car was mistakenly towed from my own parking spot and tow company won\\'t release my car without paying huge storage fees**](https://www.reddit.com/r/legaladvice/comments/3yk50f/update_car_was_mistakenly_towed_from_my_own/)  (28 Dec 2015)\\n\\nI grudgingly paid the $1000 and picked up my car that day.\\n\\nI filed suit in small claims court against the business and owner before Christmas. This morning I served him at his office. Actually, my neighbor\\'s home-from-college daughter served him. She was surprisingly smooth doing it. I was \"standing in line\" behind her when she did it. The owner didn\\'t know me as it was a different employee who was at the office when I was last there. I explained why I was suing him and he was either really annoyed or didn\\'t seem to care much. It was hard to tell. Before leaving, I handed him a letter from our Condo Board (of which I am a member) informing that when his contract expires at the end of February, it was not going to be renewed. It was surprisingly easy to convince my fellow board members to not renew his contract as they have heard similar complaints from other owners and guests.\\n\\nAbout an hour ago, he called me (from the number on my original request to tow) to tell me that his employee \"mistakenly\" charged me the storage fees and should have just given me my car. That was a lie because the manager/employee called the owner when I was originally there and asked him, and it was the owner himself who told him to waive the tow fees but still charge the storage fees. I told him as much. He said his employee must have \"misunderstood\" and apologized, which I believed not at all.\\n\\nHe offered to refund the money if I agreed to renew his contract with the property. I said that this was not going to be a *quid pro quo* and that he should do what he thought was right. I told him that if he refunded the \\\\~$1000 PLUS the filing fee, that I would drop the lawsuit. If he didn\\'t, I would let the court decide. As to his contract, I said that we were meeting officially next week to discuss new tow contracts, and that his company would be free to offer his services again. I did not tell tell him that there was no way that we were going to give him another contract.\\n\\nHere are my questions for this mini-update:\\n\\n1. If the owner gives me back the money (including the filing fee), have I actually agreed to give his company back the contract with our property?\\n2. If he doesn\\'t and I end up going to court, what sort of evidence should I bring with me?\\n3. Is there any sort of implied extortion by offering to drop the lawsuit if he paid the money (and fee) and telling him that his contract wasn\\'t being renewed and that the board was meeting to find a new company, but that he could resubmit if he liked?\\n\\n**TL;DR** \\\\- Served small claims suit on tow company. Told them their tow contract would not be renewed with property. They offered to return the money if we renewed their contract.\\n\\n&amp;#x200B;\\n\\n**Reminder: I am not the original poster. Originally posted by**  [u/dude-wheres-my-car](https://www.reddit.com/user/dude-wheres-my-car/)  **in 2015 in** r/legaladvice',\n",
       "  'score': 5743,\n",
       "  'date_utc': Timestamp('2022-12-31 19:52:50'),\n",
       "  'title': \"Car was mistakenly towed from my own parking spot and tow company won't release my car without paying huge storage fees\",\n",
       "  'flair': 'INCONCLUSIVE',\n",
       "  'poster': 'Celany',\n",
       "  'permalink': '/r/BestofRedditorUpdates/comments/10025jy/car_was_mistakenly_towed_from_my_own_parking_spot/',\n",
       "  'updated': False,\n",
       "  'new': False})"
      ]
     },
     "execution_count": 14,
     "metadata": {},
     "output_type": "execute_result"
    }
   ],
   "source": [
    "len(documents), documents[1]"
   ]
  },
  {
   "cell_type": "code",
   "execution_count": 24,
   "metadata": {},
   "outputs": [
    {
     "name": "stderr",
     "output_type": "stream",
     "text": [
      " 95%|█████████▌| 95/100 [05:14<00:33,  6.68s/it]"
     ]
    }
   ],
   "source": [
    "%%time\n",
    "# Generating embeddings for the ROW_COUNT documents\n",
    "\n",
    "\n",
    "for document in tqdm(documents):\n",
    "    document[\"embedding\"] = model.encode(document[\"content\"])"
   ]
  }
 ],
 "metadata": {
  "kernelspec": {
   "display_name": "cookbook",
   "language": "python",
   "name": "python3"
  },
  "language_info": {
   "codemirror_mode": {
    "name": "ipython",
    "version": 3
   },
   "file_extension": ".py",
   "mimetype": "text/x-python",
   "name": "python",
   "nbconvert_exporter": "python",
   "pygments_lexer": "ipython3",
   "version": "3.10.13"
  },
  "orig_nbformat": 4
 },
 "nbformat": 4,
 "nbformat_minor": 2
}
