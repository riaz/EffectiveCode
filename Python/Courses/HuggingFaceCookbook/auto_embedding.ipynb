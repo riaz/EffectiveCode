{
 "cells": [
  {
   "cell_type": "code",
   "execution_count": null,
   "metadata": {},
   "outputs": [],
   "source": [
    "# Note: we will be using jina embedding which has 8K context length hence useful with larger context\n",
    "# Jina is based on the jinaBERT architecture, and supports symmetric bidirectional variant of ALiBi."
   ]
  },
  {
   "cell_type": "code",
   "execution_count": 1,
   "metadata": {},
   "outputs": [],
   "source": [
    "from transformers import AutoModel\n",
    "from numpy.linalg import norm"
   ]
  },
  {
   "cell_type": "code",
   "execution_count": 2,
   "metadata": {},
   "outputs": [],
   "source": [
    "cos_sim = lambda a,b : (a @ b.T) / (norm(a) * norm(b)) # @ is used for matrix multiplication"
   ]
  },
  {
   "cell_type": "code",
   "execution_count": 3,
   "metadata": {},
   "outputs": [
    {
     "name": "stderr",
     "output_type": "stream",
     "text": [
      "/Users/riaz/miniconda3/envs/cookbook/lib/python3.10/site-packages/huggingface_hub/file_download.py:1132: FutureWarning: `resume_download` is deprecated and will be removed in version 1.0.0. Downloads always resume when possible. If you want to force a new download, use `force_download=True`.\n",
      "  warnings.warn(\n"
     ]
    },
    {
     "data": {
      "application/vnd.jupyter.widget-view+json": {
       "model_id": "26e01f4960664ac49bf4ded0617a40ac",
       "version_major": 2,
       "version_minor": 0
      },
      "text/plain": [
       "config.json:   0%|          | 0.00/1.18k [00:00<?, ?B/s]"
      ]
     },
     "metadata": {},
     "output_type": "display_data"
    },
    {
     "data": {
      "application/vnd.jupyter.widget-view+json": {
       "model_id": "efa83ae56bd14ad58e36e5add166a5c2",
       "version_major": 2,
       "version_minor": 0
      },
      "text/plain": [
       "configuration_bert.py:   0%|          | 0.00/8.24k [00:00<?, ?B/s]"
      ]
     },
     "metadata": {},
     "output_type": "display_data"
    },
    {
     "name": "stderr",
     "output_type": "stream",
     "text": [
      "A new version of the following files was downloaded from https://huggingface.co/jinaai/jina-bert-implementation:\n",
      "- configuration_bert.py\n",
      ". Make sure to double-check they do not contain any added malicious code. To avoid downloading new versions of the code file, you can pin a revision.\n"
     ]
    },
    {
     "data": {
      "application/vnd.jupyter.widget-view+json": {
       "model_id": "84ecc1913ad74753a7518db71fbdcdfe",
       "version_major": 2,
       "version_minor": 0
      },
      "text/plain": [
       "modeling_bert.py:   0%|          | 0.00/97.7k [00:00<?, ?B/s]"
      ]
     },
     "metadata": {},
     "output_type": "display_data"
    },
    {
     "name": "stderr",
     "output_type": "stream",
     "text": [
      "A new version of the following files was downloaded from https://huggingface.co/jinaai/jina-bert-implementation:\n",
      "- modeling_bert.py\n",
      ". Make sure to double-check they do not contain any added malicious code. To avoid downloading new versions of the code file, you can pin a revision.\n",
      "/Users/riaz/miniconda3/envs/cookbook/lib/python3.10/site-packages/huggingface_hub/file_download.py:1132: FutureWarning: `resume_download` is deprecated and will be removed in version 1.0.0. Downloads always resume when possible. If you want to force a new download, use `force_download=True`.\n",
      "  warnings.warn(\n"
     ]
    },
    {
     "data": {
      "application/vnd.jupyter.widget-view+json": {
       "model_id": "9c87ff9d1fc843c69ec16baa704631dd",
       "version_major": 2,
       "version_minor": 0
      },
      "text/plain": [
       "model.safetensors:   0%|          | 0.00/275M [00:00<?, ?B/s]"
      ]
     },
     "metadata": {},
     "output_type": "display_data"
    },
    {
     "data": {
      "application/vnd.jupyter.widget-view+json": {
       "model_id": "bf62d198b42b49cb93e7c74ee1f6ded8",
       "version_major": 2,
       "version_minor": 0
      },
      "text/plain": [
       "tokenizer_config.json:   0%|          | 0.00/373 [00:00<?, ?B/s]"
      ]
     },
     "metadata": {},
     "output_type": "display_data"
    },
    {
     "data": {
      "application/vnd.jupyter.widget-view+json": {
       "model_id": "40f20799db7b4d4eb41b56cf2607313f",
       "version_major": 2,
       "version_minor": 0
      },
      "text/plain": [
       "vocab.txt:   0%|          | 0.00/232k [00:00<?, ?B/s]"
      ]
     },
     "metadata": {},
     "output_type": "display_data"
    },
    {
     "data": {
      "application/vnd.jupyter.widget-view+json": {
       "model_id": "022396d019794ab5afca3d315c6053fe",
       "version_major": 2,
       "version_minor": 0
      },
      "text/plain": [
       "tokenizer.json:   0%|          | 0.00/712k [00:00<?, ?B/s]"
      ]
     },
     "metadata": {},
     "output_type": "display_data"
    },
    {
     "data": {
      "application/vnd.jupyter.widget-view+json": {
       "model_id": "9db2495b547f4bb3baba1b82bfdf90b0",
       "version_major": 2,
       "version_minor": 0
      },
      "text/plain": [
       "special_tokens_map.json:   0%|          | 0.00/125 [00:00<?, ?B/s]"
      ]
     },
     "metadata": {},
     "output_type": "display_data"
    },
    {
     "name": "stdout",
     "output_type": "stream",
     "text": [
      "0.91080654\n"
     ]
    }
   ],
   "source": [
    "model = AutoModel.from_pretrained(\"jinaai/jina-embeddings-v2-base-en\", trust_remote_code=True)\n",
    "embeddings = model.encode([\"How is the weather today\", \"What is the current weather like?\"])\n",
    "\n",
    "print(cos_sim(embeddings[0], embeddings[1]))"
   ]
  },
  {
   "cell_type": "code",
   "execution_count": null,
   "metadata": {},
   "outputs": [],
   "source": [
    "### Note: the original demo uses HF inference endpoints but we are running this locally on a mac"
   ]
  },
  {
   "cell_type": "code",
   "execution_count": 23,
   "metadata": {},
   "outputs": [],
   "source": [
    "# managing imports \n",
    "import asyncio\n",
    "import json\n",
    "from pathlib import Path\n",
    "import time\n",
    "from tqdm import tqdm\n",
    "\n",
    "from typing import Optional\n",
    "from datasets import load_dataset, Dataset, DatasetDict\n",
    "\n",
    "import numpy as np\n",
    "import pandas as pd"
   ]
  },
  {
   "cell_type": "code",
   "execution_count": 28,
   "metadata": {},
   "outputs": [],
   "source": [
    "# We will create embeddings of a reddit dataset\n",
    "DATASET_IN = \"derek-thomas/dataset-creator-reddit-bestofredditorupdates\"\n",
    "DATASET_OUT = \"processed-embeddings-bestofreddit_100\"\n",
    "\n",
    "MAX_WORKERS = 5\n",
    "ROW_COUNT = 100"
   ]
  },
  {
   "cell_type": "code",
   "execution_count": 10,
   "metadata": {},
   "outputs": [
    {
     "data": {
      "application/vnd.jupyter.widget-view+json": {
       "model_id": "4990b938fac741ee904533928faeee28",
       "version_major": 2,
       "version_minor": 0
      },
      "text/plain": [
       "Downloading readme:   0%|          | 0.00/1.53k [00:00<?, ?B/s]"
      ]
     },
     "metadata": {},
     "output_type": "display_data"
    },
    {
     "data": {
      "application/vnd.jupyter.widget-view+json": {
       "model_id": "9d6443113acc4bdd9ca83a9f9585bc24",
       "version_major": 2,
       "version_minor": 0
      },
      "text/plain": [
       "Downloading data:   0%|          | 0.00/46.3M [00:00<?, ?B/s]"
      ]
     },
     "metadata": {},
     "output_type": "display_data"
    },
    {
     "data": {
      "application/vnd.jupyter.widget-view+json": {
       "model_id": "e7d411ca10b54e01936a67fbc16dba56",
       "version_major": 2,
       "version_minor": 0
      },
      "text/plain": [
       "Generating train split:   0%|          | 0/11595 [00:00<?, ? examples/s]"
      ]
     },
     "metadata": {},
     "output_type": "display_data"
    }
   ],
   "source": [
    "dataset = load_dataset(DATASET_IN)"
   ]
  },
  {
   "cell_type": "code",
   "execution_count": 11,
   "metadata": {},
   "outputs": [],
   "source": [
    "# train data as pandas\n",
    "documents = dataset[\"train\"].to_pandas().to_dict(\"records\")[:ROW_COUNT]"
   ]
  },
  {
   "cell_type": "code",
   "execution_count": 14,
   "metadata": {},
   "outputs": [
    {
     "data": {
      "text/plain": [
       "(100,\n",
       " {'id': '10025jy',\n",
       "  'content': '**I am not the original poster. Originally posted by**  [u/dude-wheres-my-car](https://www.reddit.com/user/dude-wheres-my-car/)  **in 2015 in** r/legaladvice\\n\\n&amp;#x200B;\\n\\n[**Car was mistakenly towed from my own parking spot and tow company won\\'t release my car without paying huge storage fees**](https://www.reddit.com/r/legaladvice/comments/3x45v9/car_was_mistakenly_towed_from_my_own_parking_spot/) (16 Dec 2015)\\n\\nI own a condo that I am remodeling before renting it out again. The condo has 2 numbered parking spaces in an *oversized driveway*. My in-laws have been staying with us for the holidays, so we parked one of our cars (a black Land Cruiser) at the condo 2 weeks ago. Annoyingly, there was a dark red Toyota 4runner illegally parked there. We called the tow company contracted to our property and gave them the make/model, color, plate number, and the number of the spot. They said would tow the car. We parked our Land Cruiser in our other parking spot and went home.\\n\\nLast night, I went to get the car and it was gone! I reported it stolen. Quite annoyingly, the red 4runner was still there. While I was on the phone talking to the police, my wife called the tow company to confirm that they towed the car I called about 2 weeks ago. They said they did and said it was still there. They towed MY CAR! They towed the black land cruiser parked in spot #2, instead of the red 4runner parked in spot #1. They didn\\'t even bother to check the plates, or the model, or the color.\\n\\nAt the lot, they said that in order to release my car, I would have to pay the tow fees and the 2 week storage fee before they would release my car. The manager sort of acknowledged that they made an error but kept on saying that it was company policy for the fee to be paid before a release. He said they would be willing to waive the tow fee as it was their error, but I am still responsible for the storage fees which is over $1000.\\n\\nThe cops said this was a civil matter and they couldn\\'t intervene.\\n\\nWhat are my options?\\n\\n1. Is there any legal action that I can do to get my car back **today** without paying $1000? They screwed up, not me. I have the money but my life is so crazy that I don\\'t really have time to sue in small claims court and deal with that hassle plus trying to collect if I win.\\n2. They said if I didn\\'t pay today, the daily fee continues to accrue. If I don\\'t pick it up today, is there a way to stop them from continuing to charge their daily storage fee as they admitted the car was towed in error?\\n3. The lot has no gate. Can I just get in my truck and drive it away? They said that I would be arrested for car theft if I did.\\n\\n**TL;DR** \\\\- tow company towed my car mistakenly. They won\\'t release my car unless I pay them storage fees. Help.\\n\\n&amp;#x200B;\\n\\n**Relevant Comment:**\\n\\nOne commenter doesn\\'t understand how this isn\\'t theft.  [A\\\\_Soporific](https://www.reddit.com/user/A_Soporific/)  explains: \\n\\nIn this case the business had a contract that included permission to take cars from a lot and licensing that gives them permission to take and hold cars from the state. They were asked to take a car from a lot they were authorized to and did so. There\\'s nothing *criminal* about that. There was no intent to break the law and simply having the car in the lot isn\\'t a crime because they were authorized to do so.\\n\\nThe State doesn\\'t have a dog in the fight, no one intentionally did anything that violates a law.\\n\\nThe owner of the car is being wronged and a *tort* has been committed by the tow lot. What is the difference? A tort comes from simple negligence that causes another harm. Many things are both a tort and a crime, but due to the licensing and contractual authorizations in this case it\\'s not a crime. It\\'s not stealing to move a thing that you are permitted to move from one place to another. It is stealing to move a thing that you are *NOT* authorized to move.\\n\\nThe police aren\\'t triers of fact. They don\\'t know who is right and wrong and bringing an implicit threat of force into arguments isn\\'t a good way to bury them once and for all. Rather than making a guy with a gun decide on the spot we have a system that keeps the police sidelined in these cases and makes people resolve these disputes *civilly*. And by that I mean in court.\\n\\nThey admitted guilt, which makes this case pretty much a slam dunk, but asking the police to pick sides in every case like this is just more trouble than it\\'s worth.\\n\\n&amp;#x200B;\\n\\n[**UPDATE: Car was mistakenly towed from my own parking spot and tow company won\\'t release my car without paying huge storage fees**](https://www.reddit.com/r/legaladvice/comments/3yk50f/update_car_was_mistakenly_towed_from_my_own/)  (28 Dec 2015)\\n\\nI grudgingly paid the $1000 and picked up my car that day.\\n\\nI filed suit in small claims court against the business and owner before Christmas. This morning I served him at his office. Actually, my neighbor\\'s home-from-college daughter served him. She was surprisingly smooth doing it. I was \"standing in line\" behind her when she did it. The owner didn\\'t know me as it was a different employee who was at the office when I was last there. I explained why I was suing him and he was either really annoyed or didn\\'t seem to care much. It was hard to tell. Before leaving, I handed him a letter from our Condo Board (of which I am a member) informing that when his contract expires at the end of February, it was not going to be renewed. It was surprisingly easy to convince my fellow board members to not renew his contract as they have heard similar complaints from other owners and guests.\\n\\nAbout an hour ago, he called me (from the number on my original request to tow) to tell me that his employee \"mistakenly\" charged me the storage fees and should have just given me my car. That was a lie because the manager/employee called the owner when I was originally there and asked him, and it was the owner himself who told him to waive the tow fees but still charge the storage fees. I told him as much. He said his employee must have \"misunderstood\" and apologized, which I believed not at all.\\n\\nHe offered to refund the money if I agreed to renew his contract with the property. I said that this was not going to be a *quid pro quo* and that he should do what he thought was right. I told him that if he refunded the \\\\~$1000 PLUS the filing fee, that I would drop the lawsuit. If he didn\\'t, I would let the court decide. As to his contract, I said that we were meeting officially next week to discuss new tow contracts, and that his company would be free to offer his services again. I did not tell tell him that there was no way that we were going to give him another contract.\\n\\nHere are my questions for this mini-update:\\n\\n1. If the owner gives me back the money (including the filing fee), have I actually agreed to give his company back the contract with our property?\\n2. If he doesn\\'t and I end up going to court, what sort of evidence should I bring with me?\\n3. Is there any sort of implied extortion by offering to drop the lawsuit if he paid the money (and fee) and telling him that his contract wasn\\'t being renewed and that the board was meeting to find a new company, but that he could resubmit if he liked?\\n\\n**TL;DR** \\\\- Served small claims suit on tow company. Told them their tow contract would not be renewed with property. They offered to return the money if we renewed their contract.\\n\\n&amp;#x200B;\\n\\n**Reminder: I am not the original poster. Originally posted by**  [u/dude-wheres-my-car](https://www.reddit.com/user/dude-wheres-my-car/)  **in 2015 in** r/legaladvice',\n",
       "  'score': 5743,\n",
       "  'date_utc': Timestamp('2022-12-31 19:52:50'),\n",
       "  'title': \"Car was mistakenly towed from my own parking spot and tow company won't release my car without paying huge storage fees\",\n",
       "  'flair': 'INCONCLUSIVE',\n",
       "  'poster': 'Celany',\n",
       "  'permalink': '/r/BestofRedditorUpdates/comments/10025jy/car_was_mistakenly_towed_from_my_own_parking_spot/',\n",
       "  'updated': False,\n",
       "  'new': False})"
      ]
     },
     "execution_count": 14,
     "metadata": {},
     "output_type": "execute_result"
    }
   ],
   "source": [
    "len(documents), documents[1]"
   ]
  },
  {
   "cell_type": "code",
   "execution_count": 24,
   "metadata": {},
   "outputs": [
    {
     "name": "stderr",
     "output_type": "stream",
     "text": [
      "100%|██████████| 100/100 [08:36<00:00,  5.16s/it]"
     ]
    },
    {
     "name": "stdout",
     "output_type": "stream",
     "text": [
      "CPU times: user 18min 57s, sys: 20min 11s, total: 39min 9s\n",
      "Wall time: 8min 36s\n"
     ]
    },
    {
     "name": "stderr",
     "output_type": "stream",
     "text": [
      "\n"
     ]
    }
   ],
   "source": [
    "%%time\n",
    "# Generating embeddings for the ROW_COUNT documents\n",
    "\n",
    "\n",
    "for document in tqdm(documents):\n",
    "    document[\"embedding\"] = model.encode(document[\"content\"])"
   ]
  },
  {
   "cell_type": "code",
   "execution_count": 25,
   "metadata": {},
   "outputs": [
    {
     "data": {
      "text/plain": [
       "{'id': '10025jy',\n",
       " 'content': '**I am not the original poster. Originally posted by**  [u/dude-wheres-my-car](https://www.reddit.com/user/dude-wheres-my-car/)  **in 2015 in** r/legaladvice\\n\\n&amp;#x200B;\\n\\n[**Car was mistakenly towed from my own parking spot and tow company won\\'t release my car without paying huge storage fees**](https://www.reddit.com/r/legaladvice/comments/3x45v9/car_was_mistakenly_towed_from_my_own_parking_spot/) (16 Dec 2015)\\n\\nI own a condo that I am remodeling before renting it out again. The condo has 2 numbered parking spaces in an *oversized driveway*. My in-laws have been staying with us for the holidays, so we parked one of our cars (a black Land Cruiser) at the condo 2 weeks ago. Annoyingly, there was a dark red Toyota 4runner illegally parked there. We called the tow company contracted to our property and gave them the make/model, color, plate number, and the number of the spot. They said would tow the car. We parked our Land Cruiser in our other parking spot and went home.\\n\\nLast night, I went to get the car and it was gone! I reported it stolen. Quite annoyingly, the red 4runner was still there. While I was on the phone talking to the police, my wife called the tow company to confirm that they towed the car I called about 2 weeks ago. They said they did and said it was still there. They towed MY CAR! They towed the black land cruiser parked in spot #2, instead of the red 4runner parked in spot #1. They didn\\'t even bother to check the plates, or the model, or the color.\\n\\nAt the lot, they said that in order to release my car, I would have to pay the tow fees and the 2 week storage fee before they would release my car. The manager sort of acknowledged that they made an error but kept on saying that it was company policy for the fee to be paid before a release. He said they would be willing to waive the tow fee as it was their error, but I am still responsible for the storage fees which is over $1000.\\n\\nThe cops said this was a civil matter and they couldn\\'t intervene.\\n\\nWhat are my options?\\n\\n1. Is there any legal action that I can do to get my car back **today** without paying $1000? They screwed up, not me. I have the money but my life is so crazy that I don\\'t really have time to sue in small claims court and deal with that hassle plus trying to collect if I win.\\n2. They said if I didn\\'t pay today, the daily fee continues to accrue. If I don\\'t pick it up today, is there a way to stop them from continuing to charge their daily storage fee as they admitted the car was towed in error?\\n3. The lot has no gate. Can I just get in my truck and drive it away? They said that I would be arrested for car theft if I did.\\n\\n**TL;DR** \\\\- tow company towed my car mistakenly. They won\\'t release my car unless I pay them storage fees. Help.\\n\\n&amp;#x200B;\\n\\n**Relevant Comment:**\\n\\nOne commenter doesn\\'t understand how this isn\\'t theft.  [A\\\\_Soporific](https://www.reddit.com/user/A_Soporific/)  explains: \\n\\nIn this case the business had a contract that included permission to take cars from a lot and licensing that gives them permission to take and hold cars from the state. They were asked to take a car from a lot they were authorized to and did so. There\\'s nothing *criminal* about that. There was no intent to break the law and simply having the car in the lot isn\\'t a crime because they were authorized to do so.\\n\\nThe State doesn\\'t have a dog in the fight, no one intentionally did anything that violates a law.\\n\\nThe owner of the car is being wronged and a *tort* has been committed by the tow lot. What is the difference? A tort comes from simple negligence that causes another harm. Many things are both a tort and a crime, but due to the licensing and contractual authorizations in this case it\\'s not a crime. It\\'s not stealing to move a thing that you are permitted to move from one place to another. It is stealing to move a thing that you are *NOT* authorized to move.\\n\\nThe police aren\\'t triers of fact. They don\\'t know who is right and wrong and bringing an implicit threat of force into arguments isn\\'t a good way to bury them once and for all. Rather than making a guy with a gun decide on the spot we have a system that keeps the police sidelined in these cases and makes people resolve these disputes *civilly*. And by that I mean in court.\\n\\nThey admitted guilt, which makes this case pretty much a slam dunk, but asking the police to pick sides in every case like this is just more trouble than it\\'s worth.\\n\\n&amp;#x200B;\\n\\n[**UPDATE: Car was mistakenly towed from my own parking spot and tow company won\\'t release my car without paying huge storage fees**](https://www.reddit.com/r/legaladvice/comments/3yk50f/update_car_was_mistakenly_towed_from_my_own/)  (28 Dec 2015)\\n\\nI grudgingly paid the $1000 and picked up my car that day.\\n\\nI filed suit in small claims court against the business and owner before Christmas. This morning I served him at his office. Actually, my neighbor\\'s home-from-college daughter served him. She was surprisingly smooth doing it. I was \"standing in line\" behind her when she did it. The owner didn\\'t know me as it was a different employee who was at the office when I was last there. I explained why I was suing him and he was either really annoyed or didn\\'t seem to care much. It was hard to tell. Before leaving, I handed him a letter from our Condo Board (of which I am a member) informing that when his contract expires at the end of February, it was not going to be renewed. It was surprisingly easy to convince my fellow board members to not renew his contract as they have heard similar complaints from other owners and guests.\\n\\nAbout an hour ago, he called me (from the number on my original request to tow) to tell me that his employee \"mistakenly\" charged me the storage fees and should have just given me my car. That was a lie because the manager/employee called the owner when I was originally there and asked him, and it was the owner himself who told him to waive the tow fees but still charge the storage fees. I told him as much. He said his employee must have \"misunderstood\" and apologized, which I believed not at all.\\n\\nHe offered to refund the money if I agreed to renew his contract with the property. I said that this was not going to be a *quid pro quo* and that he should do what he thought was right. I told him that if he refunded the \\\\~$1000 PLUS the filing fee, that I would drop the lawsuit. If he didn\\'t, I would let the court decide. As to his contract, I said that we were meeting officially next week to discuss new tow contracts, and that his company would be free to offer his services again. I did not tell tell him that there was no way that we were going to give him another contract.\\n\\nHere are my questions for this mini-update:\\n\\n1. If the owner gives me back the money (including the filing fee), have I actually agreed to give his company back the contract with our property?\\n2. If he doesn\\'t and I end up going to court, what sort of evidence should I bring with me?\\n3. Is there any sort of implied extortion by offering to drop the lawsuit if he paid the money (and fee) and telling him that his contract wasn\\'t being renewed and that the board was meeting to find a new company, but that he could resubmit if he liked?\\n\\n**TL;DR** \\\\- Served small claims suit on tow company. Told them their tow contract would not be renewed with property. They offered to return the money if we renewed their contract.\\n\\n&amp;#x200B;\\n\\n**Reminder: I am not the original poster. Originally posted by**  [u/dude-wheres-my-car](https://www.reddit.com/user/dude-wheres-my-car/)  **in 2015 in** r/legaladvice',\n",
       " 'score': 5743,\n",
       " 'date_utc': Timestamp('2022-12-31 19:52:50'),\n",
       " 'title': \"Car was mistakenly towed from my own parking spot and tow company won't release my car without paying huge storage fees\",\n",
       " 'flair': 'INCONCLUSIVE',\n",
       " 'poster': 'Celany',\n",
       " 'permalink': '/r/BestofRedditorUpdates/comments/10025jy/car_was_mistakenly_towed_from_my_own_parking_spot/',\n",
       " 'updated': False,\n",
       " 'new': False,\n",
       " 'embedding': array([-5.39242923e-01, -3.82917672e-01,  9.42377508e-01,  6.40902445e-02,\n",
       "        -3.04251194e-01,  1.21294163e-01,  4.09511477e-01, -6.61824465e-01,\n",
       "         6.84188366e-01,  3.50781083e-01,  5.44532537e-02,  3.29184622e-01,\n",
       "        -1.48469806e-01,  1.84304956e-02, -2.92845350e-02,  9.11838114e-01,\n",
       "         6.33386001e-02,  2.40755543e-01,  2.53869057e-01, -3.52731973e-01,\n",
       "        -7.47643530e-01, -2.61245847e-01, -6.36347711e-01,  5.93701797e-03,\n",
       "         4.80585426e-01,  3.07605028e-01,  5.92924595e-01,  5.00226140e-01,\n",
       "         7.83007070e-02,  2.97448277e-01,  4.22108360e-02, -1.33686200e-01,\n",
       "        -2.31944829e-01, -1.74548820e-01, -7.36461580e-01, -1.99763298e-01,\n",
       "        -3.59686971e-01,  2.42720708e-01,  4.38894965e-02,  1.30005106e-01,\n",
       "        -6.76460803e-01,  1.17580570e-01, -3.38227093e-01,  5.48016250e-01,\n",
       "        -8.57572913e-01, -1.82627827e-01, -3.63011777e-01, -1.56624109e-01,\n",
       "         2.44045302e-01, -5.59829175e-01, -2.48021141e-01, -6.81824744e-01,\n",
       "        -2.42815256e-01, -6.49820685e-01,  6.44803464e-01,  2.31057659e-01,\n",
       "         1.11856997e+00,  4.10335958e-01, -3.11786562e-01, -3.17462623e-01,\n",
       "        -5.40283620e-01,  6.51968718e-01, -3.46553892e-01,  1.33064643e-01,\n",
       "         4.08309281e-01,  3.25351477e-01, -1.45556346e-01, -4.91310120e-01,\n",
       "        -7.31107771e-01, -2.45394394e-01, -1.75747704e-02,  4.34823871e-01,\n",
       "        -4.91443217e-01, -4.14957345e-01,  5.29578745e-01,  4.15288389e-01,\n",
       "        -2.87277699e-01, -1.33862361e-01, -2.83031672e-01, -2.31482446e-01,\n",
       "         9.83963609e-01, -5.70100127e-03,  1.34311482e-01, -1.93046108e-01,\n",
       "        -6.70547485e-01, -2.01875478e-01, -5.02276003e-01,  2.66377658e-01,\n",
       "         6.27863050e-01,  8.76267478e-02, -1.42569810e-01,  5.88583291e-01,\n",
       "         3.23369771e-01, -1.18991196e-01,  4.01029050e-01,  7.96690732e-02,\n",
       "         2.66697258e-01, -1.30192682e-01, -3.01230937e-01,  4.00168121e-01,\n",
       "         4.11187500e-01,  4.87754822e-01,  2.64315814e-01, -4.08541769e-01,\n",
       "        -2.90900767e-01, -4.52929854e-01,  3.53822917e-01,  1.62856653e-01,\n",
       "         5.22341626e-03,  1.83889449e-01, -2.71633178e-01, -2.25934535e-01,\n",
       "         2.62437850e-01, -6.73415244e-01, -2.62293309e-01,  6.15859870e-03,\n",
       "         1.54917732e-01, -9.78269055e-02, -3.55600327e-01,  1.54602140e-01,\n",
       "        -3.99655759e-01,  2.16656208e-01,  3.14271331e-01, -5.90425551e-01,\n",
       "         4.01176631e-01,  1.93636432e-01,  4.81725156e-01,  5.27267158e-01,\n",
       "        -2.23730713e-01, -5.80588698e-01,  6.50059462e-01, -4.42729145e-01,\n",
       "         3.85126621e-01,  2.26063535e-01, -2.42736042e-01, -2.45538950e-02,\n",
       "         2.07754776e-01,  1.87561959e-01, -5.22843778e-01,  1.75843462e-01,\n",
       "        -7.66551793e-01, -2.20583916e-01, -4.09512848e-01, -2.16217101e-01,\n",
       "        -1.20349795e-01,  1.96358606e-01, -3.28930438e-01,  3.63994122e-01,\n",
       "        -1.22520132e-02, -4.55703884e-01,  4.07566488e-01, -1.97805151e-01,\n",
       "        -3.73472184e-01,  3.24610829e-01, -2.65715629e-01, -6.90807700e-02,\n",
       "         8.31084609e-01, -1.57422900e-01, -7.06472248e-02,  1.28444746e-01,\n",
       "         1.09319389e-01, -5.60848117e-01,  1.78098366e-01,  2.26527989e-01,\n",
       "        -9.20214355e-02,  8.61107647e-01,  2.78884768e-01, -4.14259911e-01,\n",
       "        -6.09258354e-01, -5.59004962e-01, -2.58151621e-01,  4.50197726e-01,\n",
       "        -3.51870328e-01, -4.93748099e-01, -9.17560142e-03, -5.34569681e-01,\n",
       "         4.29799944e-01,  4.80712414e-01, -7.57197678e-01,  6.85006008e-02,\n",
       "        -3.85926217e-01,  3.66745964e-02,  8.32290649e-01,  1.81275770e-01,\n",
       "         5.88469803e-01, -3.02339375e-01,  6.56232834e-01, -3.97968479e-02,\n",
       "        -1.09014325e-01,  2.52364784e-01, -3.19409221e-01, -4.63633776e-01,\n",
       "         2.49250196e-02,  9.18333605e-03,  4.34904903e-01,  1.67043358e-02,\n",
       "         3.69202197e-01, -6.23474121e-02, -2.13473380e-01, -4.43263710e-01,\n",
       "        -6.10296965e-01,  2.86259651e-01,  2.75498837e-01,  4.01171714e-01,\n",
       "         5.99217713e-02, -4.75443602e-01, -6.77788794e-01, -5.23658335e-01,\n",
       "        -2.75546998e-01,  1.41542137e-01,  5.27800143e-01,  3.63437891e-01,\n",
       "         3.06619138e-01,  1.03980613e+00, -5.14669716e-01, -2.55350530e-01,\n",
       "        -1.14904694e-01, -1.09562442e-01, -8.49313103e-03,  6.96593583e-01,\n",
       "         7.55082250e-01, -5.13450980e-01, -4.23975170e-01,  2.40117714e-01,\n",
       "        -4.55431253e-01,  6.51735663e-02, -2.26038471e-01, -5.49144447e-02,\n",
       "         5.92929423e-01,  2.45615348e-01, -1.14353275e+00,  5.24052978e-01,\n",
       "        -4.96679209e-02, -4.79391694e-01,  7.59005308e-01, -7.91159034e-01,\n",
       "        -1.62600771e-01, -6.30852818e-01,  5.17475046e-02, -3.54126155e-01,\n",
       "        -4.78717357e-01, -1.15830585e-01,  5.52597865e-02,  1.70933325e-02,\n",
       "         8.67675245e-03, -1.55432686e-01,  2.82224286e-02, -5.81615329e-01,\n",
       "        -6.59410536e-01, -2.47272998e-01, -1.21327132e-01, -1.99632183e-01,\n",
       "         1.84576094e-01,  3.62151638e-02,  7.39606857e-01,  1.78544164e-01,\n",
       "        -7.11641192e-01,  1.60428107e-01, -6.36568218e-02,  9.22624320e-02,\n",
       "         4.05845881e-01, -2.84214973e-01,  1.96898550e-01, -6.89249337e-01,\n",
       "        -5.32486737e-02, -1.10716605e+00, -2.88714468e-02,  3.84573847e-01,\n",
       "        -1.18774220e-01,  1.34016693e-01, -5.55866957e-01, -4.21941757e-01,\n",
       "        -1.96367010e-01, -2.30537914e-02, -3.61914970e-02,  3.94765079e-01,\n",
       "        -3.66107821e-01,  3.25086862e-01,  6.73599899e-01, -1.29859522e-01,\n",
       "        -5.67997813e-01, -7.17718720e-01,  1.73040941e-01, -3.28228623e-01,\n",
       "        -2.86716431e-01,  4.10375029e-01, -6.07821345e-03, -4.90815908e-01,\n",
       "         5.64784685e-04, -4.50512052e-01, -1.25260860e-01,  1.69521838e-01,\n",
       "         3.26021641e-01, -3.00710201e-01, -7.43714347e-02,  4.93129492e-01,\n",
       "         1.72292426e-01, -2.94183403e-01,  3.95019948e-01,  3.86672378e-01,\n",
       "         8.77228379e-01, -5.19370258e-01, -6.00485243e-02, -1.75561368e-01,\n",
       "         3.70795220e-01,  4.85458165e-01, -7.65119940e-02,  2.43507504e-01,\n",
       "        -8.45477805e-02, -2.02723950e-01,  2.60788321e-01, -6.18966460e-01,\n",
       "         1.90224759e-02, -4.12467271e-01, -1.13931462e-01, -2.84411788e-01,\n",
       "        -3.77223849e-01,  3.19435716e-01,  2.39643753e-01,  1.89256191e-01,\n",
       "         4.74005222e-01,  1.55424058e-01, -7.86172330e-01,  7.01218426e-01,\n",
       "         5.73176384e-01, -2.99249262e-01,  3.42074215e-01, -6.46608844e-02,\n",
       "         8.43547523e-01, -3.60132456e-01, -3.30645502e-01, -4.47469831e-01,\n",
       "        -4.83114123e-01, -4.02355522e-01,  1.93858340e-01,  2.06362754e-01,\n",
       "         2.11499915e-01, -2.22260505e-01,  6.91899598e-01, -3.42852809e-02,\n",
       "         2.83855200e-01,  3.97083797e-02, -1.50620028e-01,  4.04711038e-01,\n",
       "        -1.08669996e-01, -1.14019603e-01, -2.39364415e-01, -6.62067354e-01,\n",
       "        -5.85001469e-01,  3.90916616e-01,  2.61334807e-01,  7.05879152e-01,\n",
       "         6.78890347e-01,  6.34716988e-01,  4.98700917e-01,  3.48665044e-02,\n",
       "        -5.44809997e-01,  5.88154674e-01,  3.43725204e-01, -8.25272441e-01,\n",
       "         2.57498529e-02, -3.99178892e-01, -1.20255017e+00,  2.85274386e-01,\n",
       "        -3.88210528e-02, -5.95393777e-01,  5.19401968e-01,  2.94398725e-01,\n",
       "        -4.88943100e-01,  2.23143727e-01, -7.58243442e-01,  4.86516953e-01,\n",
       "        -5.19639134e-01, -3.80674243e-01, -6.36890173e-01, -7.02553689e-01,\n",
       "         3.97514731e-01,  6.46602809e-02,  6.05982125e-01, -4.17350471e-01,\n",
       "        -3.25035542e-01,  4.12970632e-01, -6.30408645e-01,  3.11617702e-01,\n",
       "        -3.29935312e-01,  5.00521474e-02,  2.52141476e-01,  4.39607561e-01,\n",
       "         6.20606720e-01,  3.99345368e-01,  5.53317070e-01, -8.39820921e-01,\n",
       "         2.94035375e-02,  4.50851247e-02, -5.46445251e-01,  7.02453256e-01,\n",
       "        -4.38334644e-01, -2.18580440e-01, -7.02713907e-01, -1.61912665e-01,\n",
       "         2.78085023e-01,  1.65166214e-01,  3.34791094e-01,  1.91904813e-01,\n",
       "         2.13177606e-01, -6.18423939e-01,  2.86909342e-01, -2.10014895e-01,\n",
       "         9.35255110e-01,  8.01870584e-01, -2.19961226e-01, -3.26890737e-01,\n",
       "         7.22651839e-01,  4.01174910e-02, -2.01013014e-01,  5.80110066e-02,\n",
       "         5.23313165e-01, -5.52198768e-01, -1.72279373e-01, -2.95103509e-02,\n",
       "         6.77381456e-01, -5.85812509e-01, -3.60035688e-01, -6.98779404e-01,\n",
       "         2.17577964e-01, -3.19052964e-01, -4.66680005e-02, -5.28496444e-01,\n",
       "        -5.46792805e-01, -3.00040275e-01, -1.05739869e-01,  2.37666413e-01,\n",
       "         5.93487024e-01, -3.38156879e-01,  1.67449266e-01, -7.62647867e-01,\n",
       "         2.33916230e-02,  2.52013743e-01, -8.63258988e-02,  3.32669839e-02,\n",
       "        -3.09405208e-01,  2.77200460e-01, -1.94842294e-01, -2.20018178e-01,\n",
       "        -8.82624507e-01,  5.86650193e-01, -2.71879256e-01,  4.69332665e-01,\n",
       "         2.52211571e-01,  2.95921028e-01,  7.68831432e-01, -4.48439807e-01,\n",
       "         6.80503666e-01,  4.48123395e-01, -7.70366967e-01,  3.69286805e-01,\n",
       "         6.95849285e-02, -3.87074351e-01,  5.53260684e-01,  3.70968491e-01,\n",
       "        -9.53298733e-02, -1.42098010e-01, -1.08514428e+00, -8.23877037e-01,\n",
       "         2.23269969e-01,  3.04219723e-02,  1.47219494e-01,  6.26078472e-02,\n",
       "         3.41225654e-01, -4.38591033e-01,  6.49702668e-01, -7.37310410e-01,\n",
       "        -5.26846111e-01, -1.54924497e-01,  3.35933864e-01,  4.10674438e-02,\n",
       "        -2.99358696e-01, -1.67528883e-01, -4.48456913e-01,  5.46458185e-01,\n",
       "        -7.11054280e-02,  5.50018489e-01,  3.75522017e-01, -4.38251406e-01,\n",
       "         2.86294185e-02,  2.75825620e-01,  7.43252933e-01,  7.31854677e-01,\n",
       "         5.66902123e-02,  4.33756739e-01,  3.83894444e-02, -3.92508894e-01,\n",
       "         4.51955706e-01, -1.11912200e-02,  2.74063438e-01,  6.68294728e-02,\n",
       "         8.07439312e-02,  2.80213624e-01,  7.01239780e-02, -5.69595575e-01,\n",
       "         7.72259891e-01, -1.02084935e-01, -2.69233361e-02, -7.53999829e-01,\n",
       "        -1.43506810e-01, -1.34945452e-01,  2.47531593e-01,  3.72060627e-01,\n",
       "         3.27132970e-01,  1.73275098e-01, -4.80307579e-01, -5.37734181e-02,\n",
       "         4.17794228e-01, -3.10537666e-01, -3.69749337e-01,  5.99723876e-01,\n",
       "        -7.70379677e-02, -1.44989789e-01,  1.38875917e-01, -2.71051586e-01,\n",
       "        -3.92954767e-01,  4.51064557e-01,  6.90389276e-01,  7.17604101e-01,\n",
       "        -1.26787588e-01,  2.36138657e-01,  4.05142874e-01,  5.03982306e-01,\n",
       "         1.35009423e-01,  5.80986440e-01, -2.71962732e-01, -8.62650156e-01,\n",
       "         5.64959422e-02, -5.85763417e-02,  3.38023365e-01,  1.70096293e-01,\n",
       "        -4.57500368e-01, -1.61116362e-01, -1.05308294e+00, -6.04982495e-01,\n",
       "        -4.32298660e-01,  7.32496157e-02, -2.64797240e-01,  1.74464777e-01,\n",
       "        -3.04885387e-01,  1.00321341e+00, -4.45730329e-01,  2.90188760e-01,\n",
       "         8.40135992e-01, -6.66378438e-01, -7.53595650e-01,  1.35131225e-01,\n",
       "        -2.06110597e-01, -6.92023456e-01,  5.91745913e-01, -2.70203143e-01,\n",
       "        -3.52365464e-01, -8.35314989e-02, -1.05688119e+00, -9.48156655e-01,\n",
       "         8.08041751e-01,  1.70895353e-01, -7.10053802e-01,  2.20759168e-01,\n",
       "        -2.52903163e-01,  3.57454985e-01, -5.34223206e-02, -3.45811337e-01,\n",
       "         5.12762427e-01,  3.44778746e-01,  1.38814226e-01, -3.68302733e-01,\n",
       "         3.42274785e-01,  2.69627213e-01, -1.84657365e-01,  8.03094208e-02,\n",
       "        -7.68011272e-01,  7.25596428e-01, -5.44516921e-01, -2.34454244e-01,\n",
       "         4.13176268e-01,  3.47533464e-01, -4.86640967e-02,  4.08266447e-02,\n",
       "         6.02706671e-01,  9.09423649e-01,  8.72699678e-01, -1.55006513e-01,\n",
       "         1.14107502e+00,  2.35657752e-01,  6.93761110e-01,  9.15211380e-01,\n",
       "        -3.19142014e-01,  4.63141769e-01,  8.45610917e-01, -2.60178536e-01,\n",
       "         1.81900650e-01,  8.91159549e-02, -2.75001794e-01,  9.38660622e-01,\n",
       "         1.35514572e-01, -4.72227782e-01, -2.99806595e-01, -6.97930977e-02,\n",
       "        -3.91945124e-01,  1.05066553e-01, -2.90074628e-02, -4.27810758e-01,\n",
       "        -4.04589683e-01, -2.51435488e-01,  5.00050671e-02, -2.10944206e-01,\n",
       "        -2.84544706e-01,  7.56773055e-01,  1.17311947e-01, -3.28406841e-01,\n",
       "         3.03613711e-02,  4.43912204e-03,  1.27021506e-01, -4.37568337e-01,\n",
       "         3.97503406e-01, -2.34164670e-01,  1.15741096e-01, -2.65276581e-01,\n",
       "        -6.96360290e-01,  3.51050913e-01, -5.45643410e-03, -3.46523166e-01,\n",
       "        -5.20177901e-01,  5.51421702e-01, -2.71572083e-01,  1.94101751e-01,\n",
       "         2.52929628e-01,  8.47923607e-02,  4.43668276e-01, -4.61303927e-02,\n",
       "        -5.00504851e-01, -1.80794895e-01, -2.65409499e-01,  1.16954744e-01,\n",
       "         2.07849279e-01, -2.37244010e-01,  3.10402811e-02,  7.41365314e-01,\n",
       "         5.11698306e-01,  1.68314144e-01,  2.72767454e-01,  1.66351516e-02,\n",
       "         6.34550512e-01, -8.69243205e-01, -4.96882498e-01, -4.89982128e-01,\n",
       "         6.91778898e-01, -1.73160687e-01, -4.03584242e-01,  5.34834743e-01,\n",
       "         6.55584753e-01,  5.79936981e-01, -2.14388400e-01,  5.88007271e-01,\n",
       "        -5.15444517e-01,  5.86414933e-01, -2.96946824e-01,  8.07062984e-01,\n",
       "        -7.36900985e-01,  1.13259733e-01, -1.51229501e-01, -7.09862173e-01,\n",
       "        -3.59952711e-02,  7.06374168e-01, -4.85700577e-01,  4.57574338e-01,\n",
       "         4.73206222e-01,  2.56974936e-01, -1.03871651e-01,  4.85434569e-02,\n",
       "         1.82611838e-01,  1.69884488e-01,  3.92125517e-01,  9.44027826e-02,\n",
       "         1.21582699e+00, -5.34397781e-01,  5.90712667e-01, -1.25774939e-03,\n",
       "         1.29157484e-01, -1.78303719e-01, -6.14486754e-01, -1.69913694e-02,\n",
       "        -1.20252319e-01, -5.66415548e-01, -4.36327666e-01, -2.68378466e-01,\n",
       "         5.44065535e-01,  5.86018384e-01, -3.78105670e-01, -2.35726580e-01,\n",
       "        -3.20299804e-01,  3.54053408e-01, -2.33312309e-01, -1.98760435e-01,\n",
       "        -2.67361283e-01, -1.55033633e-01, -3.01895618e-01,  4.18733805e-01,\n",
       "         2.04379112e-01,  6.73372567e-01,  3.10211480e-01, -1.29472822e-01,\n",
       "        -3.76566738e-01, -3.25099438e-01,  3.90972733e-01,  7.50801206e-01,\n",
       "        -6.05166078e-01, -3.54100704e-01, -5.62914908e-01, -4.37973171e-01,\n",
       "         3.18123698e-02,  6.61970496e-01, -4.77767050e-01,  1.55502046e-02,\n",
       "         3.34290832e-01,  2.90836543e-01,  7.66469479e-01,  3.28326792e-01,\n",
       "         6.65757358e-01, -5.66531003e-01, -2.14299083e-01,  4.84056234e-01,\n",
       "         4.57895577e-01, -3.17960512e-03, -2.65106380e-01,  2.90610492e-01,\n",
       "         4.57658201e-01, -3.63157511e-01, -5.38765609e-01,  2.69070536e-01,\n",
       "        -6.98727787e-01, -1.86291248e-01,  3.21861297e-01,  7.62234330e-02,\n",
       "         1.15981899e-01, -3.60922784e-01, -2.34093890e-01, -1.50781438e-01,\n",
       "        -3.37770969e-01,  4.33807045e-01,  5.18401504e-01, -5.91833778e-02,\n",
       "        -2.95976371e-01, -5.11190414e-01,  5.23848534e-01,  2.81961262e-01,\n",
       "        -3.30140740e-01,  5.05263880e-02,  3.91214013e-01,  6.52495265e-01,\n",
       "         5.34374118e-01,  4.12086725e-01,  3.92988324e-03,  5.34396887e-01,\n",
       "        -1.97741404e-01, -1.84666082e-01,  1.23074114e-01, -1.38420224e-01,\n",
       "        -7.56340027e-01,  2.65475452e-01, -2.59554684e-01, -7.47205019e-01],\n",
       "       dtype=float32)}"
      ]
     },
     "execution_count": 25,
     "metadata": {},
     "output_type": "execute_result"
    }
   ],
   "source": [
    "# checking the documents after including the embeddings\n",
    "documents[1]"
   ]
  },
  {
   "cell_type": "code",
   "execution_count": 26,
   "metadata": {},
   "outputs": [],
   "source": [
    "### Saving the documents with embeddings to hub\n",
    "from huggingface_hub import whoami\n"
   ]
  },
  {
   "cell_type": "code",
   "execution_count": 27,
   "metadata": {},
   "outputs": [],
   "source": [
    "df = pd.DataFrame(documents) # dict -> pandas -> Dataset\n",
    "dd = DatasetDict({\"train\": Dataset.from_pandas(df)})"
   ]
  },
  {
   "cell_type": "code",
   "execution_count": 29,
   "metadata": {},
   "outputs": [
    {
     "data": {
      "application/vnd.jupyter.widget-view+json": {
       "model_id": "c7150916c54a4191b4007487b345398c",
       "version_major": 2,
       "version_minor": 0
      },
      "text/plain": [
       "Uploading the dataset shards:   0%|          | 0/1 [00:00<?, ?it/s]"
      ]
     },
     "metadata": {},
     "output_type": "display_data"
    },
    {
     "data": {
      "application/vnd.jupyter.widget-view+json": {
       "model_id": "c2764b5042514a75b2cf5c1afec4d36e",
       "version_major": 2,
       "version_minor": 0
      },
      "text/plain": [
       "Creating parquet from Arrow format:   0%|          | 0/1 [00:00<?, ?ba/s]"
      ]
     },
     "metadata": {},
     "output_type": "display_data"
    },
    {
     "data": {
      "text/plain": [
       "CommitInfo(commit_url='https://huggingface.co/datasets/riaz/processed-embeddings-bestofreddit_100/commit/6d1f0870c68fbdc9c4fb323827fde11ea06f18eb', commit_message='Upload dataset', commit_description='', oid='6d1f0870c68fbdc9c4fb323827fde11ea06f18eb', pr_url=None, pr_revision=None, pr_num=None)"
      ]
     },
     "execution_count": 29,
     "metadata": {},
     "output_type": "execute_result"
    }
   ],
   "source": [
    "dd.push_to_hub(repo_id=DATASET_OUT)"
   ]
  }
 ],
 "metadata": {
  "kernelspec": {
   "display_name": "cookbook",
   "language": "python",
   "name": "python3"
  },
  "language_info": {
   "codemirror_mode": {
    "name": "ipython",
    "version": 3
   },
   "file_extension": ".py",
   "mimetype": "text/x-python",
   "name": "python",
   "nbconvert_exporter": "python",
   "pygments_lexer": "ipython3",
   "version": "3.10.13"
  },
  "orig_nbformat": 4
 },
 "nbformat": 4,
 "nbformat_minor": 2
}
