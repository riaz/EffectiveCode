{
 "cells": [
  {
   "cell_type": "code",
   "execution_count": 26,
   "metadata": {},
   "outputs": [],
   "source": [
    "import numpy as np\n",
    "\n",
    "class KMeans:\n",
    "    def __init__(self, n_clusters, max_iter=100, random_state=None):\n",
    "        self.n_clusters = n_clusters\n",
    "        self.max_iter = max_iter\n",
    "        self.random_state = random_state\n",
    "        self.centroids = None\n",
    "\n",
    "    def initialize_centroids(self, X):\n",
    "        if self.random_state:\n",
    "            np.random.seed(self.random_state)\n",
    "        self.centroids = X[np.random.choice(len(X), self.n_clusters, replace=False)]\n",
    "\n",
    "    def compute_distances(self, X):\n",
    "        distances = np.zeros((len(X), self.n_clusters))\n",
    "        for i, point in enumerate(X):\n",
    "            for j, centroid in enumerate(self.centroids):\n",
    "                distances[i, j] = np.linalg.norm(point - centroid)\n",
    "        return distances\n",
    "\n",
    "    def assign_clusters(self, distances):\n",
    "        return np.argmin(distances, axis=1)\n",
    "    \n",
    "    def compute_dist_and_assing_cluster(self, X):\n",
    "        distances = np.zeros((len(X), self.n_clusters))\n",
    "        for i, point in enumerate(X):\n",
    "            for j, centroid in enumerate(self.centroids):\n",
    "                distances[i, j] = np.linalg.norm(point - centroid)\n",
    "        return np.argmin(distances, axis=1)\n",
    "\n",
    "    def update_centroids(self, X, labels):\n",
    "        centroids = np.zeros((self.n_clusters, X.shape[1]))\n",
    "        for k in range(self.n_clusters):\n",
    "            centroids[k] = np.mean(X[labels == k], axis=0) # take the mean of points with label = k (centroid)\n",
    "        return centroids\n",
    "\n",
    "    def fit(self, X):\n",
    "        self.initialize_centroids(X)\n",
    "        for _ in range(self.max_iter):\n",
    "            distances = self.compute_distances(X)\n",
    "            labels = self.assign_clusters(distances)\n",
    "            new_centroids = self.update_centroids(X, labels)\n",
    "            if np.all(self.centroids == new_centroids): \n",
    "                break\n",
    "            self.centroids = new_centroids\n",
    "        return self\n",
    "    \n",
    "    def _fit(self, X):\n",
    "        self.initialize_centroids(X)\n",
    "        for _ in range(self.max_iter):\n",
    "            labels = self.compute_dist_and_assing_cluster(X)\n",
    "            new_centroids = self.update_centroids(X, labels)\n",
    "            if np.array_equal(self.centroids,new_centroids):  # early exit\n",
    "                break\n",
    "            self.centroids = new_centroids           \n",
    "\n",
    "    def predict(self, X):\n",
    "        distances = self.compute_distances(X)\n",
    "        return self.assign_clusters(distances)\n",
    "\n",
    "    def _predict(self, X):            \n",
    "            return self.compute_dist_and_assing_cluster(X)"
   ]
  },
  {
   "cell_type": "code",
   "execution_count": 27,
   "metadata": {},
   "outputs": [],
   "source": [
    "# Generate some random data\n",
    "X = np.random.rand(100, 2)\n",
    "\n",
    "# Initialize the K-Means model\n",
    "kmeans = KMeans(n_clusters=3, random_state=42)\n",
    "\n",
    "# Fit the model to the data\n",
    "kmeans.fit(X)\n",
    "\n",
    "# Predict the cluster labels for new data\n",
    "labels = kmeans.predict(X)"
   ]
  },
  {
   "cell_type": "code",
   "execution_count": 28,
   "metadata": {},
   "outputs": [
    {
     "data": {
      "text/plain": [
       "array([1, 0, 0, 1, 2, 1, 1, 2, 1, 1, 2, 1, 2, 1, 1, 0, 1, 1, 1, 0, 2, 2,\n",
       "       1, 2, 1, 1, 2, 2, 1, 0, 2, 2, 2, 2, 1, 1, 1, 2, 1, 0, 1, 2, 2, 0,\n",
       "       0, 1, 2, 1, 2, 1, 2, 0, 1, 1, 2, 0, 1, 2, 1, 1, 2, 1, 0, 1, 1, 1,\n",
       "       1, 0, 2, 1, 2, 2, 1, 0, 1, 0, 1, 1, 2, 1, 0, 1, 0, 0, 1, 1, 1, 1,\n",
       "       2, 2, 2, 1, 0, 1, 2, 2, 0, 0, 2, 1])"
      ]
     },
     "execution_count": 28,
     "metadata": {},
     "output_type": "execute_result"
    }
   ],
   "source": [
    "labels"
   ]
  },
  {
   "cell_type": "code",
   "execution_count": 32,
   "metadata": {},
   "outputs": [],
   "source": [
    "# Generate some random data\n",
    "#X = np.random.rand(100, 2)\n",
    "\n",
    "# This example uses the same X as above\n",
    "\n",
    "# Initialize the K-Means model\n",
    "kmeans = KMeans(n_clusters=5, random_state=42)\n",
    "\n",
    "# Fit the model to the data\n",
    "kmeans._fit(X)\n",
    "\n",
    "# Predict the cluster labels for new data\n",
    "_labels = kmeans._predict(X)"
   ]
  },
  {
   "cell_type": "code",
   "execution_count": 33,
   "metadata": {},
   "outputs": [
    {
     "data": {
      "text/plain": [
       "array([1, 0, 0, 3, 2, 1, 0, 1, 1, 3, 2, 1, 2, 1, 1, 4, 0, 1, 3, 0, 2, 2,\n",
       "       1, 2, 1, 1, 2, 2, 0, 4, 2, 1, 2, 2, 3, 1, 1, 2, 1, 0, 1, 4, 2, 0,\n",
       "       0, 3, 2, 3, 2, 3, 2, 0, 1, 3, 1, 4, 1, 2, 3, 3, 2, 3, 0, 3, 3, 0,\n",
       "       1, 4, 2, 1, 2, 2, 1, 4, 0, 4, 3, 1, 2, 0, 4, 1, 4, 0, 1, 3, 1, 3,\n",
       "       2, 2, 2, 1, 4, 1, 2, 2, 4, 0, 2, 1])"
      ]
     },
     "execution_count": 33,
     "metadata": {},
     "output_type": "execute_result"
    }
   ],
   "source": [
    "_labels"
   ]
  },
  {
   "cell_type": "code",
   "execution_count": 31,
   "metadata": {},
   "outputs": [],
   "source": [
    "assert np.array_equal(labels, _labels)"
   ]
  }
 ],
 "metadata": {
  "kernelspec": {
   "display_name": "cookbook",
   "language": "python",
   "name": "python3"
  },
  "language_info": {
   "codemirror_mode": {
    "name": "ipython",
    "version": 3
   },
   "file_extension": ".py",
   "mimetype": "text/x-python",
   "name": "python",
   "nbconvert_exporter": "python",
   "pygments_lexer": "ipython3",
   "version": "3.10.13"
  },
  "orig_nbformat": 4
 },
 "nbformat": 4,
 "nbformat_minor": 2
}
