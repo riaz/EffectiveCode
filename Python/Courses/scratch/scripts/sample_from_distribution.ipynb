{
 "cells": [
  {
   "cell_type": "code",
   "execution_count": null,
   "metadata": {},
   "outputs": [],
   "source": [
    "import random\n",
    "\n",
    "def sample_from_distribution(weights):\n",
    "    \"\"\"\n",
    "    Samples an index from a non-uniform distribution defined by the given weights.\n",
    "    \n",
    "    Args:\n",
    "        weights (list): A list of non-negative numbers representing the weights/probabilities.\n",
    "    \n",
    "    Returns:\n",
    "        int: The sampled index from the distribution.\n",
    "    \"\"\"\n",
    "    total_weight = sum(weights)\n",
    "    prefix_sum = [0] * len(weights)\n",
    "    \n",
    "    # Compute the prefix sum of weights\n",
    "    for i in range(len(weights)):\n",
    "        prefix_sum[i] = weights[i] + (prefix_sum[i - 1] if i > 0 else 0)\n",
    "    \n",
    "    # Generate a random number between 0 and the total weight\n",
    "    random_num = random.uniform(0, total_weight)\n",
    "    \n",
    "    # Find the index corresponding to the random number\n",
    "    for i in range(len(weights)):\n",
    "        if random_num < prefix_sum[i]:\n",
    "            return i\n",
    "    \n",
    "    # This should never happen\n",
    "    raise ValueError(\"Error in sampling from distribution\")\n",
    "\n",
    "# Example usage\n",
    "weights = [0.2, 0.3, 0.1, 0.4]\n",
    "samples = [sample_from_distribution(weights) for _ in range(10000)]\n",
    "\n",
    "# Print the frequency of each index\n",
    "for i in range(len(weights)):\n",
    "    print(f\"Index {i} sampled {samples.count(i) / len(samples) * 100:.2f}% of the time\")"
   ]
  }
 ],
 "metadata": {
  "kernelspec": {
   "display_name": "cookbook",
   "language": "python",
   "name": "python3"
  },
  "language_info": {
   "name": "python",
   "version": "3.10.13"
  },
  "orig_nbformat": 4
 },
 "nbformat": 4,
 "nbformat_minor": 2
}
