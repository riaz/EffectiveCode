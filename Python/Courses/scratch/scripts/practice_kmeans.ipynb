{
 "cells": [
  {
   "cell_type": "code",
   "execution_count": null,
   "metadata": {},
   "outputs": [],
   "source": [
    "# We want to implement a class called kmeans that accepts\n",
    "# max_iter and num of cluster and maybe some random state\n",
    "# and with fit and predict methods to assign clusters to the datapoints pass to fit"
   ]
  },
  {
   "cell_type": "code",
   "execution_count": 7,
   "metadata": {},
   "outputs": [],
   "source": [
    "import numpy as np\n",
    "\n",
    "class KMeans:\n",
    "    def __init__(self, n_clusters: int, max_iter: int, random_state: int):\n",
    "        self.n_clusters = n_clusters\n",
    "        self.max_iter = max_iter\n",
    "        self.random_state = random_state\n",
    "        self.centroids = None\n",
    "    \n",
    "    def initialize_centroids(self, X):\n",
    "        if self.random_state:\n",
    "            np.random.seed(self.random_state)\n",
    "        # we will use the random state to randomly pick n_clusters points from X\n",
    "        self.centroids = X[np.random.choice(len(X), size=self.n_clusters, replace=False)]\n",
    "\n",
    "    def compute_distance_and_get_new_centroids(self, X) -> np.ndarray:\n",
    "        distance = np.zeros((len(X), self.n_clusters))\n",
    "        for i, point in enumerate(X):\n",
    "            for j, centroid in enumerate(self.centroids):\n",
    "                distance[i][j] = np.linalg.norm(point - centroid)\n",
    "        return np.argmax(distance, axis=1) # this returns the index of the x axis with highest value or cluster\n",
    "    \n",
    "    def update_cluster(self, X: np.ndarray, labels: np.ndarray) -> np.ndarray:\n",
    "        new_clusters = np.zeros((self.n_clusters, len(X[1])))\n",
    "        for idx in range(self.n_clusters):\n",
    "            new_clusters[idx] = np.mean(X[labels == idx], axis=0)\n",
    "        return new_clusters\n",
    "\n",
    "    def fit(self, X):\n",
    "        # initialize the centorids \n",
    "        self.initialize_centroids(X) # this is called one time only after initialization\n",
    "        for _ in range(self.max_iter):\n",
    "            # get new cluster assignment\n",
    "            labels = self.compute_distance_and_get_new_centroids(X)\n",
    "            new_clusters = self.update_cluster(X, labels)\n",
    "            if np.array_equal(self.centroids, new_clusters): # if no change we can quit early\n",
    "                pass\n",
    "            self.centroids = new_clusters\n",
    "\n",
    "    def predict(self, X) -> np.ndarray:\n",
    "        return self.compute_distance_and_get_new_centroids(X)"
   ]
  },
  {
   "cell_type": "code",
   "execution_count": 8,
   "metadata": {},
   "outputs": [
    {
     "ename": "TypeError",
     "evalue": "KMeans.update_cluster() takes 3 positional arguments but 4 were given",
     "output_type": "error",
     "traceback": [
      "\u001b[0;31m---------------------------------------------------------------------------\u001b[0m",
      "\u001b[0;31mTypeError\u001b[0m                                 Traceback (most recent call last)",
      "\u001b[1;32m/Users/riaz/EffectiveCode/Python/Courses/scratch/scripts/practice_kmeans.ipynb Cell 3\u001b[0m line \u001b[0;36m7\n\u001b[1;32m      <a href='vscode-notebook-cell:/Users/riaz/EffectiveCode/Python/Courses/scratch/scripts/practice_kmeans.ipynb#W2sZmlsZQ%3D%3D?line=2'>3</a>\u001b[0m X \u001b[39m=\u001b[39m np\u001b[39m.\u001b[39mrandom\u001b[39m.\u001b[39mrand(\u001b[39m100\u001b[39m,\u001b[39m2\u001b[39m) \u001b[39m# filled with random 100 2d points\u001b[39;00m\n\u001b[1;32m      <a href='vscode-notebook-cell:/Users/riaz/EffectiveCode/Python/Courses/scratch/scripts/practice_kmeans.ipynb#W2sZmlsZQ%3D%3D?line=4'>5</a>\u001b[0m model \u001b[39m=\u001b[39m KMeans(\u001b[39m3\u001b[39m, \u001b[39m100\u001b[39m, random_state\u001b[39m=\u001b[39m\u001b[39m42\u001b[39m)\n\u001b[0;32m----> <a href='vscode-notebook-cell:/Users/riaz/EffectiveCode/Python/Courses/scratch/scripts/practice_kmeans.ipynb#W2sZmlsZQ%3D%3D?line=6'>7</a>\u001b[0m model\u001b[39m.\u001b[39;49mfit(X)\n\u001b[1;32m      <a href='vscode-notebook-cell:/Users/riaz/EffectiveCode/Python/Courses/scratch/scripts/practice_kmeans.ipynb#W2sZmlsZQ%3D%3D?line=8'>9</a>\u001b[0m labels \u001b[39m=\u001b[39m model\u001b[39m.\u001b[39mpredict(X)\n\u001b[1;32m     <a href='vscode-notebook-cell:/Users/riaz/EffectiveCode/Python/Courses/scratch/scripts/practice_kmeans.ipynb#W2sZmlsZQ%3D%3D?line=10'>11</a>\u001b[0m \u001b[39mprint\u001b[39m(labels)\n",
      "\u001b[1;32m/Users/riaz/EffectiveCode/Python/Courses/scratch/scripts/practice_kmeans.ipynb Cell 3\u001b[0m line \u001b[0;36m3\n\u001b[1;32m     <a href='vscode-notebook-cell:/Users/riaz/EffectiveCode/Python/Courses/scratch/scripts/practice_kmeans.ipynb#W2sZmlsZQ%3D%3D?line=31'>32</a>\u001b[0m \u001b[39mfor\u001b[39;00m _ \u001b[39min\u001b[39;00m \u001b[39mrange\u001b[39m(\u001b[39mself\u001b[39m\u001b[39m.\u001b[39mmax_iter):\n\u001b[1;32m     <a href='vscode-notebook-cell:/Users/riaz/EffectiveCode/Python/Courses/scratch/scripts/practice_kmeans.ipynb#W2sZmlsZQ%3D%3D?line=32'>33</a>\u001b[0m     \u001b[39m# get new cluster assignment\u001b[39;00m\n\u001b[1;32m     <a href='vscode-notebook-cell:/Users/riaz/EffectiveCode/Python/Courses/scratch/scripts/practice_kmeans.ipynb#W2sZmlsZQ%3D%3D?line=33'>34</a>\u001b[0m     labels \u001b[39m=\u001b[39m \u001b[39mself\u001b[39m\u001b[39m.\u001b[39mcompute_distance_and_get_new_centroids(X)\n\u001b[0;32m---> <a href='vscode-notebook-cell:/Users/riaz/EffectiveCode/Python/Courses/scratch/scripts/practice_kmeans.ipynb#W2sZmlsZQ%3D%3D?line=34'>35</a>\u001b[0m     new_clusters \u001b[39m=\u001b[39m \u001b[39mself\u001b[39;49m\u001b[39m.\u001b[39;49mupdate_cluster(\u001b[39mself\u001b[39;49m, X, labels)\n\u001b[1;32m     <a href='vscode-notebook-cell:/Users/riaz/EffectiveCode/Python/Courses/scratch/scripts/practice_kmeans.ipynb#W2sZmlsZQ%3D%3D?line=35'>36</a>\u001b[0m     \u001b[39mif\u001b[39;00m np\u001b[39m.\u001b[39marray_equal(\u001b[39mself\u001b[39m\u001b[39m.\u001b[39mcentroids, new_clusters): \u001b[39m# if no change we can quit early\u001b[39;00m\n\u001b[1;32m     <a href='vscode-notebook-cell:/Users/riaz/EffectiveCode/Python/Courses/scratch/scripts/practice_kmeans.ipynb#W2sZmlsZQ%3D%3D?line=36'>37</a>\u001b[0m         \u001b[39mpass\u001b[39;00m\n",
      "\u001b[0;31mTypeError\u001b[0m: KMeans.update_cluster() takes 3 positional arguments but 4 were given"
     ]
    }
   ],
   "source": [
    "random_state = 42\n",
    "\n",
    "X = np.random.rand(100,2) # filled with random 100 2d points\n",
    "\n",
    "model = KMeans(3, 100, random_state=42)\n",
    "\n",
    "model.fit(X)\n",
    "\n",
    "labels = model.predict(X)\n",
    "\n",
    "print(labels)"
   ]
  }
 ],
 "metadata": {
  "kernelspec": {
   "display_name": "cookbook",
   "language": "python",
   "name": "python3"
  },
  "language_info": {
   "codemirror_mode": {
    "name": "ipython",
    "version": 3
   },
   "file_extension": ".py",
   "mimetype": "text/x-python",
   "name": "python",
   "nbconvert_exporter": "python",
   "pygments_lexer": "ipython3",
   "version": "3.10.13"
  },
  "orig_nbformat": 4
 },
 "nbformat": 4,
 "nbformat_minor": 2
}
