{
 "cells": [
  {
   "cell_type": "code",
   "execution_count": null,
   "metadata": {},
   "outputs": [],
   "source": [
    "# We want to implement a class called kmeans that accepts\n",
    "# max_iter and num of cluster and maybe some random state\n",
    "# and with fit and predict methods to assign clusters to the datapoints pass to fit"
   ]
  },
  {
   "cell_type": "code",
   "execution_count": 14,
   "metadata": {},
   "outputs": [],
   "source": [
    "import numpy as np\n",
    "\n",
    "class KMeans:\n",
    "    def __init__(self, n_clusters: int, max_iter: int, random_state: int):\n",
    "        self.n_clusters = n_clusters\n",
    "        self.max_iter = max_iter\n",
    "        self.random_state = random_state\n",
    "        self.centroids = None\n",
    "    \n",
    "    def initialize_centroids(self, X):\n",
    "        if self.random_state:\n",
    "            np.random.seed(self.random_state)\n",
    "        # we will use the random state to randomly pick n_clusters points from X\n",
    "        self.centroids = X[np.random.choice(len(X), size=self.n_clusters, replace=False)]\n",
    "\n",
    "    def compute_distance_and_get_new_centroids(self, X) -> np.ndarray:\n",
    "        distance = np.zeros((len(X), self.n_clusters))\n",
    "        for i, point in enumerate(X):\n",
    "            for j, centroid in enumerate(self.centroids):\n",
    "                distance[i][j] = np.linalg.norm(point - centroid)\n",
    "        return np.argmin(distance, axis=1) # this returns the index of the x axis with min value or cluster\n",
    "    \n",
    "    def update_cluster(self, X: np.ndarray, labels: np.ndarray) -> np.ndarray:\n",
    "        new_centroids = np.zeros((self.n_clusters, X.shape[1]))\n",
    "        for idx in range(self.n_clusters):\n",
    "            new_centroids[idx] = np.mean(X[labels == idx], axis=0)\n",
    "        return new_centroids\n",
    "\n",
    "    def fit(self, X):\n",
    "        # initialize the centorids \n",
    "        self.initialize_centroids(X) # this is called one time only after initialization\n",
    "        for _ in range(self.max_iter):\n",
    "            # get new cluster assignment\n",
    "            labels = self.compute_distance_and_get_new_centroids(X)\n",
    "            new_clusters = self.update_cluster(X, labels)\n",
    "            if np.array_equal(self.centroids, new_clusters): # if no change we can quit early\n",
    "                break\n",
    "            self.centroids = new_clusters\n",
    "\n",
    "    def predict(self, X) -> np.ndarray:\n",
    "        return self.compute_distance_and_get_new_centroids(X)"
   ]
  },
  {
   "cell_type": "code",
   "execution_count": 15,
   "metadata": {},
   "outputs": [
    {
     "name": "stdout",
     "output_type": "stream",
     "text": [
      "[1 0 0 3 2 1 0 1 1 3 2 1 2 1 1 4 0 1 3 0 2 2 1 2 1 1 2 2 0 4 2 1 2 2 3 1 1\n",
      " 2 1 0 1 4 2 0 0 3 2 3 2 3 2 0 1 3 1 4 1 2 3 3 2 3 0 3 3 0 1 4 2 1 2 2 1 4\n",
      " 0 4 3 1 2 0 4 1 4 0 1 3 1 3 2 2 2 1 4 1 2 2 4 0 2 1]\n"
     ]
    }
   ],
   "source": [
    "random_state = 42\n",
    "\n",
    "X = np.random.rand(100,2) # filled with random 100 2d points\n",
    "\n",
    "model = KMeans(5, 100, random_state=42)\n",
    "\n",
    "model.fit(X)\n",
    "\n",
    "labels = model.predict(X)\n",
    "\n",
    "print(labels)"
   ]
  }
 ],
 "metadata": {
  "kernelspec": {
   "display_name": "cookbook",
   "language": "python",
   "name": "python3"
  },
  "language_info": {
   "codemirror_mode": {
    "name": "ipython",
    "version": 3
   },
   "file_extension": ".py",
   "mimetype": "text/x-python",
   "name": "python",
   "nbconvert_exporter": "python",
   "pygments_lexer": "ipython3",
   "version": "3.10.13"
  },
  "orig_nbformat": 4
 },
 "nbformat": 4,
 "nbformat_minor": 2
}
