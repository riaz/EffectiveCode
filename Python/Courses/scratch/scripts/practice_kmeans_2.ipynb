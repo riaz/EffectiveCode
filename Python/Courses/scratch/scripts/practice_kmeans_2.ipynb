{
 "cells": [
  {
   "cell_type": "code",
   "execution_count": 1,
   "metadata": {},
   "outputs": [],
   "source": [
    "import numpy as np"
   ]
  },
  {
   "cell_type": "code",
   "execution_count": 15,
   "metadata": {},
   "outputs": [],
   "source": [
    "class KMeans:\n",
    "    def __init__(self, n_clusters, max_iter, random_state):\n",
    "        self.n_clusters = n_clusters\n",
    "        self.max_iter = max_iter\n",
    "        self.random_state = random_state\n",
    "        self.centroid = None\n",
    "        \n",
    "    def initialize_clusters(self, X):\n",
    "        if self.random_state:\n",
    "            np.random.seed(self.random_state)\n",
    "        self.centroids = X[np.random.choice(len(X), self.n_clusters, replace=False)]\n",
    "\n",
    "    def compute_distance_and_get_label(self, X):\n",
    "        \"\"\"\n",
    "        We will compute the distance of each X from the centroids and return argmax across the centroids for each point\n",
    "        \"\"\"\n",
    "        distance = np.zeros((len(X), self.n_clusters))\n",
    "        for i, point in enumerate(X):\n",
    "            for j, centroid in enumerate(self.centroids):\n",
    "                distance[i][j] = np.linalg.norm(point - centroid)            \n",
    "        return np.argmin(distance, axis=1)\n",
    "    \n",
    "    def update_clusters(self, X, labels):\n",
    "        new_centroid = np.zeros((self.n_clusters, X.shape[1]))\n",
    "        for i in range(self.n_clusters):\n",
    "            new_centroid[i] = np.mean(X[labels == i], axis=0)            \n",
    "        return new_centroid\n",
    "    \n",
    "    def fit(self, X):\n",
    "        self.initialize_clusters(X)\n",
    "        for _ in range(self.max_iter):\n",
    "            labels = self.compute_distance_and_get_label(X)\n",
    "            new_centroids = self.update_clusters(X, labels)\n",
    "\n",
    "            if np.array_equal(new_centroids, self.centroids):\n",
    "                break\n",
    "\n",
    "            self.centroids = new_centroids\n",
    "\n",
    "    def predict(self, X):\n",
    "        return self.compute_distance_and_get_label(X)"
   ]
  },
  {
   "cell_type": "code",
   "execution_count": 26,
   "metadata": {},
   "outputs": [
    {
     "data": {
      "text/plain": [
       "array([ 9, 28, 28,  3, 15, 29,  5, 19, 24, 28,  8,  9, 18,  6, 26, 25,  5,\n",
       "        6, 10, 28, 11, 23, 24, 11, 24, 29, 22, 11, 26, 20, 11, 19, 15, 13,\n",
       "        1,  6,  6, 15, 29,  5, 26, 25, 23,  5,  4,  3, 18,  1, 23,  1, 11,\n",
       "        4, 17,  1, 19, 20,  6, 14,  3, 17,  8,  1,  4,  3,  3,  5, 24,  4,\n",
       "       19, 24,  2, 15, 29, 12, 26, 20, 16, 17, 14, 10,  7, 26, 25,  0,  6,\n",
       "       16, 19, 16, 21,  8, 14, 24, 27,  9, 23, 13, 27,  5, 19, 19])"
      ]
     },
     "execution_count": 26,
     "metadata": {},
     "output_type": "execute_result"
    }
   ],
   "source": [
    "random_state = 42\n",
    "\n",
    "X = np.random.rand(100, 2)\n",
    "\n",
    "clusters = 30\n",
    "\n",
    "model = KMeans(clusters, 100, random_state)\n",
    "\n",
    "model.fit(X)\n",
    "\n",
    "labels = model.predict(X)\n",
    "\n",
    "labels"
   ]
  },
  {
   "cell_type": "code",
   "execution_count": 25,
   "metadata": {},
   "outputs": [
    {
     "data": {
      "text/plain": [
       "array([[ 0,  1],\n",
       "       [ 1,  5],\n",
       "       [ 2,  1],\n",
       "       [ 3,  5],\n",
       "       [ 4,  4],\n",
       "       [ 5,  6],\n",
       "       [ 6,  6],\n",
       "       [ 7,  1],\n",
       "       [ 8,  3],\n",
       "       [ 9,  3],\n",
       "       [10,  2],\n",
       "       [11,  5],\n",
       "       [12,  1],\n",
       "       [13,  2],\n",
       "       [14,  3],\n",
       "       [15,  4],\n",
       "       [16,  3],\n",
       "       [17,  3],\n",
       "       [18,  2],\n",
       "       [19,  7],\n",
       "       [20,  3],\n",
       "       [21,  1],\n",
       "       [22,  1],\n",
       "       [23,  4],\n",
       "       [24,  6],\n",
       "       [25,  3],\n",
       "       [26,  5],\n",
       "       [27,  2],\n",
       "       [28,  4],\n",
       "       [29,  4]])"
      ]
     },
     "execution_count": 25,
     "metadata": {},
     "output_type": "execute_result"
    }
   ],
   "source": [
    "np.array(np.unique(labels, return_counts=True)).T"
   ]
  },
  {
   "cell_type": "code",
   "execution_count": 28,
   "metadata": {},
   "outputs": [
    {
     "data": {
      "text/plain": [
       "True"
      ]
     },
     "execution_count": 28,
     "metadata": {},
     "output_type": "execute_result"
    }
   ],
   "source": [
    "np.all((labels >= 0) & (labels < clusters ))"
   ]
  },
  {
   "cell_type": "code",
   "execution_count": 30,
   "metadata": {},
   "outputs": [],
   "source": [
    "# checkin if agg sum adds up\n",
    "agg = np.array(np.unique(labels, return_counts=True)).T"
   ]
  },
  {
   "cell_type": "code",
   "execution_count": 33,
   "metadata": {},
   "outputs": [
    {
     "data": {
      "text/plain": [
       "True"
      ]
     },
     "execution_count": 33,
     "metadata": {},
     "output_type": "execute_result"
    }
   ],
   "source": [
    "np.sum(agg, axis=0)[1] == 100"
   ]
  }
 ],
 "metadata": {
  "kernelspec": {
   "display_name": "cookbook",
   "language": "python",
   "name": "python3"
  },
  "language_info": {
   "codemirror_mode": {
    "name": "ipython",
    "version": 3
   },
   "file_extension": ".py",
   "mimetype": "text/x-python",
   "name": "python",
   "nbconvert_exporter": "python",
   "pygments_lexer": "ipython3",
   "version": "3.10.13"
  },
  "orig_nbformat": 4
 },
 "nbformat": 4,
 "nbformat_minor": 2
}
