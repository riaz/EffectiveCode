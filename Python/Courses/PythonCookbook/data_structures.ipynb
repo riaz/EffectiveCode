{
 "cells": [
  {
   "cell_type": "markdown",
   "metadata": {},
   "source": [
    "### Unpacking a sequence of varibales"
   ]
  },
  {
   "cell_type": "code",
   "execution_count": 2,
   "metadata": {},
   "outputs": [],
   "source": [
    "data = \"APPL\", 10, 200, (2022, 10, 10)\n",
    "name, share, price, (year, mth, day) = data"
   ]
  },
  {
   "cell_type": "code",
   "execution_count": 3,
   "metadata": {},
   "outputs": [
    {
     "name": "stdout",
     "output_type": "stream",
     "text": [
      "2022 10 10\n"
     ]
    }
   ],
   "source": [
    "print(year, mth, day)"
   ]
  },
  {
   "cell_type": "code",
   "execution_count": 4,
   "metadata": {},
   "outputs": [],
   "source": [
    "a,b,*c = (1,2)"
   ]
  },
  {
   "cell_type": "code",
   "execution_count": 5,
   "metadata": {},
   "outputs": [
    {
     "data": {
      "text/plain": [
       "list"
      ]
     },
     "execution_count": 5,
     "metadata": {},
     "output_type": "execute_result"
    }
   ],
   "source": [
    "type(c) # Note: c will always be a list type"
   ]
  },
  {
   "cell_type": "code",
   "execution_count": null,
   "metadata": {},
   "outputs": [],
   "source": [
    "c # this will have null value"
   ]
  },
  {
   "cell_type": "markdown",
   "metadata": {},
   "source": [
    "### Keeping Last N items"
   ]
  },
  {
   "cell_type": "code",
   "execution_count": 1,
   "metadata": {},
   "outputs": [
    {
     "name": "stdout",
     "output_type": "stream",
     "text": [
      "Context:\n",
      "Line :  1 I love python\n",
      "\n",
      "----------------------------------------\n",
      "Context:\n",
      "1 I love python\n",
      "\n",
      "Line :  2 I love python\n",
      "\n",
      "----------------------------------------\n",
      "Context:\n",
      "1 I love python\n",
      "\n",
      "2 I love python\n",
      "\n",
      "Line :  3 I love python\n",
      "\n",
      "----------------------------------------\n",
      "Context:\n",
      "1 I love python\n",
      "\n",
      "2 I love python\n",
      "\n",
      "3 I love python\n",
      "\n",
      "Line :  4 I love python\n",
      "\n",
      "----------------------------------------\n",
      "Context:\n",
      "1 I love python\n",
      "\n",
      "2 I love python\n",
      "\n",
      "3 I love python\n",
      "\n",
      "4 I love python\n",
      "\n",
      "Line :  5 I love python\n",
      "\n",
      "----------------------------------------\n",
      "Context:\n",
      "1 I love python\n",
      "\n",
      "2 I love python\n",
      "\n",
      "3 I love python\n",
      "\n",
      "4 I love python\n",
      "\n",
      "5 I love python\n",
      "\n",
      "Line :  6 I love python\n",
      "\n",
      "----------------------------------------\n",
      "Context:\n",
      "2 I love python\n",
      "\n",
      "3 I love python\n",
      "\n",
      "4 I love python\n",
      "\n",
      "5 I love python\n",
      "\n",
      "6 I love python\n",
      "\n",
      "Line :  7 I love python\n",
      "\n",
      "----------------------------------------\n",
      "Context:\n",
      "3 I love python\n",
      "\n",
      "4 I love python\n",
      "\n",
      "5 I love python\n",
      "\n",
      "6 I love python\n",
      "\n",
      "7 I love python\n",
      "\n",
      "Line :  8 I love python\n",
      "----------------------------------------\n"
     ]
    }
   ],
   "source": [
    "# we can make use of deque to retain the last N seen items\n",
    "from collections import deque\n",
    "\n",
    "def search(lines: str, pattern: str, history: int = 5):\n",
    "    previous_lines = deque(maxlen=history)\n",
    "    # The above is all the previous lines of maxsize history\n",
    "    # We will next check if they follow the pattern and return\n",
    "    for line in lines:\n",
    "        if pattern in line:\n",
    "            yield line, previous_lines \n",
    "        previous_lines.append(line)  # creating the deque context, initially its gonna be empty\n",
    "\n",
    "with open(\"files/python.txt\") as fs:\n",
    "    for line, prev_lines in search(fs, \"python\"):\n",
    "        print(\"Context:\")\n",
    "        for pline in prev_lines:\n",
    "            print(pline)\n",
    "        print(\"Line : \", line)\n",
    "        print(\"-\" * 40)\n"
   ]
  },
  {
   "cell_type": "code",
   "execution_count": 21,
   "metadata": {},
   "outputs": [
    {
     "data": {
      "text/plain": [
       "[5, 9, 3, 1, 2, 7, 8, 4, 6, 0]"
      ]
     },
     "execution_count": 21,
     "metadata": {},
     "output_type": "execute_result"
    }
   ],
   "source": [
    "### Finding the largest and smallest N items\n",
    "\n",
    "import heapq\n",
    "import random\n",
    "\n",
    "# N largest\n",
    "arr = list(range(0,10))\n",
    "random.shuffle(arr)"
   ]
  },
  {
   "cell_type": "code",
   "execution_count": 24,
   "metadata": {},
   "outputs": [
    {
     "data": {
      "text/plain": [
       "[9, 8, 7, 6, 5]"
      ]
     },
     "execution_count": 24,
     "metadata": {},
     "output_type": "execute_result"
    }
   ],
   "source": [
    "# top 5\n",
    "heapq.nlargest(5, arr)"
   ]
  },
  {
   "cell_type": "code",
   "execution_count": 25,
   "metadata": {},
   "outputs": [
    {
     "data": {
      "text/plain": [
       "[0, 1, 2, 3, 4]"
      ]
     },
     "execution_count": 25,
     "metadata": {},
     "output_type": "execute_result"
    }
   ],
   "source": [
    "# bottom 5\n",
    "heapq.nsmallest(5, arr)"
   ]
  },
  {
   "cell_type": "code",
   "execution_count": 26,
   "metadata": {},
   "outputs": [],
   "source": [
    "portfolio = [\n",
    "    {'name': 'IBM', 'shares': 100, 'prices': 91.1},\n",
    "    {'name': 'AAPL', 'shares': 50, 'prices': 543.23},\n",
    "    {'name': 'FB', 'shares': 200, 'prices': 21.02},\n",
    "    {'name': 'HPQ', 'shares': 35, 'prices': 31.75},\n",
    "    {'name': 'YHOO', 'shares': 45, 'prices': 16.35},\n",
    "    {'name': 'ACME', 'shares': 75, 'prices': 115.65}\n",
    "]"
   ]
  },
  {
   "cell_type": "code",
   "execution_count": 28,
   "metadata": {},
   "outputs": [
    {
     "name": "stdout",
     "output_type": "stream",
     "text": [
      "[{'name': 'YHOO', 'shares': 45, 'prices': 16.35}, {'name': 'FB', 'shares': 200, 'prices': 21.02}, {'name': 'HPQ', 'shares': 35, 'prices': 31.75}]\n",
      "[{'name': 'AAPL', 'shares': 50, 'prices': 543.23}, {'name': 'ACME', 'shares': 75, 'prices': 115.65}, {'name': 'IBM', 'shares': 100, 'prices': 91.1}]\n",
      "[{'name': 'AAPL', 'shares': 50, 'prices': 543.23}, {'name': 'IBM', 'shares': 100, 'prices': 91.1}, {'name': 'ACME', 'shares': 75, 'prices': 115.65}]\n"
     ]
    }
   ],
   "source": [
    "# let get the 3 smallest stocks\n",
    "print(heapq.nsmallest(3, portfolio, lambda record: record['prices']))\n",
    "\n",
    "# getting the 3 largest stocks\n",
    "print(heapq.nlargest(3, portfolio, lambda record: record['prices']))\n",
    "\n",
    "# getting the 3 highest totaling portfolio\n",
    "print(heapq.nlargest(3, portfolio, lambda record: record['prices'] * record['shares']))"
   ]
  },
  {
   "cell_type": "markdown",
   "metadata": {},
   "source": [
    "### Implementing a Priority Queue"
   ]
  },
  {
   "cell_type": "code",
   "execution_count": 33,
   "metadata": {},
   "outputs": [],
   "source": [
    "import heapq\n",
    "\n",
    "class PriorityQueue:\n",
    "    def __init__(self):\n",
    "        self._queue = []\n",
    "        self._index = 0\n",
    "\n",
    "    def push(self, item, priority):\n",
    "        # priority will group the elements by prority and index will take care of the insert order as its always increasing\n",
    "        heapq.heappush(self._queue, (-priority, self._index, item))\n",
    "        self._index += 1\n",
    "    \n",
    "    def pop(self):\n",
    "        return heapq.heappop(self._queue)[-1]\n",
    "\n",
    "\n",
    "class Item:\n",
    "    def __init__(self, name):\n",
    "        self.name = name\n",
    "    \n",
    "    def __repr__(self):\n",
    "        return 'Item({!r})'.format(self.name)\n"
   ]
  },
  {
   "cell_type": "code",
   "execution_count": 34,
   "metadata": {},
   "outputs": [
    {
     "name": "stdout",
     "output_type": "stream",
     "text": [
      "Item('hello')\n",
      "Item('yay!')\n",
      "Item('bar')\n"
     ]
    }
   ],
   "source": [
    "q = PriorityQueue()\n",
    "q.push(Item('foo'), 1)\n",
    "q.push(Item('bar'), 5)\n",
    "q.push(Item('hello'), 20)\n",
    "q.push(Item('world'), 4)\n",
    "\n",
    "print(q.pop())\n",
    "\n",
    "q.push(Item('yay!'), 10)\n",
    "\n",
    "print(q.pop())\n",
    "\n",
    "print(q.pop())\n"
   ]
  },
  {
   "cell_type": "code",
   "execution_count": null,
   "metadata": {},
   "outputs": [],
   "source": [
    "### Naming a Slice"
   ]
  },
  {
   "cell_type": "code",
   "execution_count": 37,
   "metadata": {},
   "outputs": [
    {
     "name": "stdout",
     "output_type": "stream",
     "text": [
      "378\n"
     ]
    }
   ],
   "source": [
    "a = \"3274892137183921830921734821738921738123748912372819378291\"\n",
    "\n",
    "rate = slice(20,22) # treat this as 20:22 \n",
    "cost = slice(10,12) # likewise\n",
    "\n",
    "price = int(a[rate]) * int(a[cost])\n",
    "\n",
    "print(price)"
   ]
  },
  {
   "cell_type": "code",
   "execution_count": 6,
   "metadata": {},
   "outputs": [
    {
     "name": "stdout",
     "output_type": "stream",
     "text": [
      "[('red', 6), ('blue', 4), ('white', 3)]\n",
      "[('red', 6), ('blue', 4), ('white', 3)]\n"
     ]
    }
   ],
   "source": [
    "### Getting the three most common items in a sequence\n",
    "\n",
    "# 1. Using counter\n",
    "\n",
    "from collections import Counter\n",
    "\n",
    "lst = [\"blue\", \"red\", \"red\", \"white\", \"blue\", \"red\", \"green\", \"green\", \"red\", \"blue\", \"red\", \"white\", \"yellow\", \"white\", \"red\", \"blue\"]\n",
    "\n",
    "counter = Counter(lst)\n",
    "\n",
    "print(counter.most_common(3)) # this is a pythonic answer\n",
    "\n",
    "# Lets try less pythonic version\n",
    "\n",
    "import heapq\n",
    "\n",
    "ordered = [(-v, k)for k, v in Counter(lst).items()]\n",
    "\n",
    "heapq.heapify(ordered)\n",
    "\n",
    "print([(k, -v )for v, k in ordered[:3]])\n",
    "\n",
    "assert counter.most_common(3) == [(k, -v )for v, k in ordered[:3]]"
   ]
  },
  {
   "cell_type": "markdown",
   "metadata": {},
   "source": [
    "### Sorting a list of dict by common keys"
   ]
  },
  {
   "cell_type": "code",
   "execution_count": 9,
   "metadata": {},
   "outputs": [
    {
     "name": "stdout",
     "output_type": "stream",
     "text": [
      "[{'name': 'aaa', 'job': 'eeee'}, {'name': 'bbb', 'job': 'bbbb'}, {'name': 'ccc', 'job': 'dddd'}]\n",
      "[{'name': 'bbb', 'job': 'bbbb'}, {'name': 'ccc', 'job': 'dddd'}, {'name': 'aaa', 'job': 'eeee'}]\n"
     ]
    }
   ],
   "source": [
    "lst = [\n",
    "    {\"name\": \"aaa\", \"job\": \"eeee\"},\n",
    "    {\"name\": \"ccc\", \"job\": \"dddd\"},\n",
    "    {\"name\": \"bbb\", \"job\": \"bbbb\"},\n",
    "]\n",
    "\n",
    "from operator import itemgetter\n",
    "\n",
    "rows_by_name = sorted(lst, key=itemgetter(\"name\"))\n",
    "# Alternatively: rows_by_name = sorted(lst, key=lambda row: row[\"name\"])\n",
    "print(rows_by_name)\n",
    "\n",
    "rows_by_job = sorted(lst, key=itemgetter(\"job\"))\n",
    "# Alternatively: rows_by_job = sorted(lst, key=lambda row: row[\"job\"])\n",
    "print(rows_by_job)\n",
    "\n",
    "# N.B: itemgetter run a bit faster compared to lambda"
   ]
  },
  {
   "cell_type": "markdown",
   "metadata": {},
   "source": [
    "### Sorting objects without native comparison support"
   ]
  },
  {
   "cell_type": "code",
   "execution_count": 13,
   "metadata": {},
   "outputs": [
    {
     "name": "stdout",
     "output_type": "stream",
     "text": [
      "[User23, User3, User99]\n",
      "[User3, User23, User99]\n",
      "[User3, User23, User99]\n"
     ]
    }
   ],
   "source": [
    "# The sorted method accepts any callable as part of the key parameter to sort its objects\n",
    "# we can use this property to sort objects of same class\n",
    "\n",
    "from operator import attrgetter\n",
    "\n",
    "class User:\n",
    "    def __init__(self, user_id: int):\n",
    "        self.user_id = user_id\n",
    "\n",
    "    def __repr__(self) -> int:\n",
    "        return f'User{self.user_id!r}'\n",
    "    \n",
    "users = [User(23), User(3), User(99)]\n",
    "\n",
    "print(users)\n",
    "\n",
    "print(sorted(users, key=lambda user: user.user_id))\n",
    "\n",
    "#or we can use attrgetter not itemgetter - itemgetter is for python types\n",
    "print(sorted(users, key=attrgetter('user_id')))\n"
   ]
  },
  {
   "cell_type": "markdown",
   "metadata": {},
   "source": [
    "### Grouping records together based on field"
   ]
  },
  {
   "cell_type": "code",
   "execution_count": 18,
   "metadata": {},
   "outputs": [
    {
     "name": "stdout",
     "output_type": "stream",
     "text": [
      "eeee [{'name': 'aaa', 'job': 'eeee'}]\n",
      "bbbb [{'name': 'bbb', 'job': 'bbbb'}]\n",
      "dddd [{'name': 'ccc', 'job': 'dddd'}]\n",
      "eeee [{'name': 'ddd', 'job': 'eeee'}]\n",
      "bbbb [{'name': 'eee', 'job': 'bbbb'}]\n",
      "dddd [{'name': 'fff', 'job': 'dddd'}]\n"
     ]
    }
   ],
   "source": [
    "# We can use itertools to group list of dicts \n",
    "\n",
    "from itertools import groupby\n",
    "\n",
    "lst = [\n",
    "    {\"name\": \"aaa\", \"job\": \"eeee\"},\n",
    "    {\"name\": \"ccc\", \"job\": \"dddd\"},\n",
    "    {\"name\": \"bbb\", \"job\": \"bbbb\"},\n",
    "    {\"name\": \"ddd\", \"job\": \"eeee\"},\n",
    "    {\"name\": \"fff\", \"job\": \"dddd\"},\n",
    "    {\"name\": \"eee\", \"job\": \"bbbb\"},\n",
    "]\n",
    "\n",
    "lst.sort(key=itemgetter(\"job\"))\n",
    "\n",
    "for job, names in groupby(lst, itemgetter(\"job\")):\n",
    "    print(job, list(names))\n"
   ]
  }
 ],
 "metadata": {
  "kernelspec": {
   "display_name": "cookbook",
   "language": "python",
   "name": "python3"
  },
  "language_info": {
   "codemirror_mode": {
    "name": "ipython",
    "version": 3
   },
   "file_extension": ".py",
   "mimetype": "text/x-python",
   "name": "python",
   "nbconvert_exporter": "python",
   "pygments_lexer": "ipython3",
   "version": "3.10.13"
  },
  "orig_nbformat": 4
 },
 "nbformat": 4,
 "nbformat_minor": 2
}
