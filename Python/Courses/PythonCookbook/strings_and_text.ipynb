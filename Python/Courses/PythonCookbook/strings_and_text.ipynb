{
 "cells": [
  {
   "cell_type": "markdown",
   "metadata": {},
   "source": [
    "### 2.1 - Splitting Strings"
   ]
  },
  {
   "cell_type": "code",
   "execution_count": 6,
   "metadata": {},
   "outputs": [
    {
     "name": "stdout",
     "output_type": "stream",
     "text": [
      "['asds', 'asdasd', 'sadasd', 'wewe', 'wewe', 'weewqe']\n"
     ]
    }
   ],
   "source": [
    "import re\n",
    "\n",
    "line = \"asds asdasd; sadasd, wewe, wewe        weewqe\"\n",
    "\n",
    "#exp = re.compile(r\"[;,/\\s]\\s*\") \n",
    "# Note: we cannot use this since the above exp.match() will give us the patterns, we are looking to split the text by the pattern\n",
    "\n",
    "exp = r'[;,\\s]\\s*'\n",
    "print(re.split(exp, line))"
   ]
  },
  {
   "cell_type": "code",
   "execution_count": 8,
   "metadata": {},
   "outputs": [
    {
     "name": "stdout",
     "output_type": "stream",
     "text": [
      "['asds', ' ', 'asdasd', ';', 'sadasd', ',', 'wewe', ',', 'wewe', ' ', 'weewqe']\n"
     ]
    }
   ],
   "source": [
    "## If using capture pattern even the patterns get included in the answer\n",
    "\n",
    "exp = r'(;|,|\\s)\\s*'\n",
    "print(re.split(exp, line))"
   ]
  },
  {
   "cell_type": "markdown",
   "metadata": {},
   "source": [
    "### 2.2 Making matching text"
   ]
  },
  {
   "cell_type": "code",
   "execution_count": 9,
   "metadata": {},
   "outputs": [
    {
     "name": "stdout",
     "output_type": "stream",
     "text": [
      "strings_and_text.ipynb\n",
      "data_structures.ipynb\n"
     ]
    }
   ],
   "source": [
    "import os\n",
    "def get_files(loc):\n",
    "    for _file in os.listdir(loc):\n",
    "        if _file.endswith(\".ipynb\"):\n",
    "            print(_file)\n",
    "\n",
    "get_files(os.getcwd())"
   ]
  },
  {
   "cell_type": "markdown",
   "metadata": {},
   "source": [
    "## 2.3 Matching string using shell wildcards patterns"
   ]
  },
  {
   "cell_type": "code",
   "execution_count": 12,
   "metadata": {},
   "outputs": [
    {
     "name": "stdout",
     "output_type": "stream",
     "text": [
      "True\n",
      "True\n",
      "['file1.txt', 'file2.txt']\n"
     ]
    }
   ],
   "source": [
    "from fnmatch import fnmatch, fnmatchcase\n",
    "\n",
    "print(fnmatch('foo.txt', '*.txt'))\n",
    "\n",
    "print(fnmatch('DataStructure.txt', 'Data*.txt'))\n",
    "\n",
    "names  = [\"file1.txt\", \"file2.txt\", \"nfile3.txt\"]\n",
    "\n",
    "print([name for name in names if fnmatch(name, \"file*.txt\")])"
   ]
  },
  {
   "cell_type": "markdown",
   "metadata": {},
   "source": [
    "Note: fnmatch is case-sensitive depending on platform hence its better to use fmatchcase for identical solutions"
   ]
  },
  {
   "cell_type": "markdown",
   "metadata": {},
   "source": [
    "### 2.4 Matching and searching for text patterns"
   ]
  },
  {
   "cell_type": "code",
   "execution_count": 17,
   "metadata": {},
   "outputs": [
    {
     "name": "stdout",
     "output_type": "stream",
     "text": [
      "True\n",
      "True\n",
      "True\n",
      "8\n",
      "Valid date\n",
      "Valid date\n",
      "Invalid date\n"
     ]
    }
   ],
   "source": [
    "text = \"A quick brown fox jumps over the lazy dog\"\n",
    "\n",
    "# exact match\n",
    "print(\"A quick brown fox jumps over the lazy dog\" == text)\n",
    "\n",
    "# starts with\n",
    "print(text.startswith(\"A quick brown\"))\n",
    "\n",
    "# ends with\n",
    "print(text.endswith(\"lazy dog\"))\n",
    "\n",
    "# find - searches for the location of the first occurance\n",
    "print(text.find(\"brown\"))\n",
    "\n",
    "# For more complex matching we use regular expression\n",
    "text1 = '11/27/2012'\n",
    "text2 = 'Nov 27, 2012'\n",
    "\n",
    "if re.match(r'\\d+/\\d+/\\d+', text1):\n",
    "    print('Valid date') \n",
    "else:\n",
    "    print('Invalid date')\n",
    "\n",
    "# similarly creating pattern for the 2nd one\n",
    "if re.match(r'[A-Z][a-z]{2}\\s+\\d+,\\s+\\d+', text2):\n",
    "    print('Valid date')\n",
    "else:\n",
    "    print('Invalid date')\n",
    "\n",
    "if re.match(r'[A-Z][a-z]{2}\\s+\\d+,\\s+\\d+', 'nov 13, 2012'):\n",
    "    print('Valid date')\n",
    "else:\n",
    "    print('Invalid date')    "
   ]
  },
  {
   "cell_type": "code",
   "execution_count": 21,
   "metadata": {},
   "outputs": [
    {
     "name": "stdout",
     "output_type": "stream",
     "text": [
      "('nov 13, 2012', 'in_valid')\n",
      "('Nov 27, 2012', 'is_valid')\n"
     ]
    }
   ],
   "source": [
    "# use compile if matching more frequently\n",
    "\n",
    "valid_date = re.compile(r'[A-Z][a-z]{2}\\s+\\d+,\\s+\\d+')\n",
    "\n",
    "def validate_date(date_str):\n",
    "    return date_str, \"is_valid\" if valid_date.match(date_str) else \"in_valid\"\n",
    "\n",
    "print(validate_date('nov 13, 2012'))\n",
    "print(validate_date('Nov 27, 2012'))"
   ]
  },
  {
   "cell_type": "code",
   "execution_count": 24,
   "metadata": {},
   "outputs": [
    {
     "name": "stdout",
     "output_type": "stream",
     "text": [
      "12/09/2012 12 09 2012\n"
     ]
    }
   ],
   "source": [
    "# It is also common to capture groups using regex\n",
    "datecap = re.compile(r'(\\d+)/(\\d+)/(\\d+)')\n",
    "\n",
    "m = datecap.match('12/09/2012')\n",
    "\n",
    "print(m.group(0), m.group(1), m.group(2), m.group(3))"
   ]
  },
  {
   "cell_type": "code",
   "execution_count": 30,
   "metadata": {},
   "outputs": [
    {
     "name": "stdout",
     "output_type": "stream",
     "text": [
      "12 - 10 - 2024\n",
      "25 - 10 - 2024\n"
     ]
    }
   ],
   "source": [
    "text = \"I will on vacation from 12/10/2024 - 25/10/2024\"\n",
    "\n",
    "datecap = re.compile(r'(\\d+)/(\\d+)/(\\d+)')\n",
    "\n",
    "for date in datecap.findall(text):   # also we may use finditer\n",
    "    day, month, year =  date\n",
    "    print(f'{day} - {month} - {year}')"
   ]
  },
  {
   "cell_type": "markdown",
   "metadata": {},
   "source": [
    "### 2.5 Searching and Replacing text"
   ]
  },
  {
   "cell_type": "code",
   "execution_count": 31,
   "metadata": {},
   "outputs": [
    {
     "name": "stdout",
     "output_type": "stream",
     "text": [
      "A quick brown fox jumps over the lazy cat\n"
     ]
    }
   ],
   "source": [
    "text = \"A quick brown fox jumps over the lazy dog\"\n",
    "\n",
    "print(text.replace(\"dog\", \"cat\"))"
   ]
  },
  {
   "cell_type": "markdown",
   "metadata": {},
   "source": [
    "### 2.6 Specifying a regular expression for the shortest path"
   ]
  },
  {
   "cell_type": "code",
   "execution_count": 34,
   "metadata": {},
   "outputs": [
    {
     "name": "stdout",
     "output_type": "stream",
     "text": [
      "['no\" and \"yes']\n",
      "['no', 'yes']\n"
     ]
    }
   ],
   "source": [
    "text = '\"no\" and \"yes\" are opposites.'\n",
    "\n",
    "# we would like to capture \"no\" and \"yes\" from the string\n",
    "\n",
    "# r'\\\"(.*)\\\"' - ideally this should capture the no and yes in the string, but .* is greedy and doesnt stop at \"\n",
    "\n",
    "print(re.findall(r'\\\"(.*)\\\"', text))\n",
    "\n",
    "print(re.findall(r'\\\"(.*?)\\\"', text)) # adding ? forces the matcher to pick the shortest possible path"
   ]
  }
 ],
 "metadata": {
  "kernelspec": {
   "display_name": "cookbook",
   "language": "python",
   "name": "python3"
  },
  "language_info": {
   "codemirror_mode": {
    "name": "ipython",
    "version": 3
   },
   "file_extension": ".py",
   "mimetype": "text/x-python",
   "name": "python",
   "nbconvert_exporter": "python",
   "pygments_lexer": "ipython3",
   "version": "3.10.13"
  },
  "orig_nbformat": 4
 },
 "nbformat": 4,
 "nbformat_minor": 2
}
