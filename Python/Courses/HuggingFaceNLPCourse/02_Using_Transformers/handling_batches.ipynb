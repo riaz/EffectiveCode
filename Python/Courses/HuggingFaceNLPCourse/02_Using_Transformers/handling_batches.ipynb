{
 "cells": [
  {
   "cell_type": "code",
   "execution_count": 168,
   "metadata": {},
   "outputs": [],
   "source": [
    "import torch\n",
    "import requests\n",
    "from transformers import AutoTokenizer, AutoModelForSequenceClassification"
   ]
  },
  {
   "cell_type": "code",
   "execution_count": 2,
   "metadata": {},
   "outputs": [],
   "source": [
    "checkpoint = \"distilbert-base-uncased-finetuned-sst-2-english\""
   ]
  },
  {
   "cell_type": "code",
   "execution_count": 3,
   "metadata": {},
   "outputs": [
    {
     "name": "stderr",
     "output_type": "stream",
     "text": [
      "/Users/riaz/miniconda3/envs/cookbook/lib/python3.10/site-packages/huggingface_hub/file_download.py:1132: FutureWarning: `resume_download` is deprecated and will be removed in version 1.0.0. Downloads always resume when possible. If you want to force a new download, use `force_download=True`.\n",
      "  warnings.warn(\n"
     ]
    }
   ],
   "source": [
    "tokenizer = AutoTokenizer.from_pretrained(checkpoint)"
   ]
  },
  {
   "cell_type": "code",
   "execution_count": 14,
   "metadata": {},
   "outputs": [
    {
     "name": "stderr",
     "output_type": "stream",
     "text": [
      "/Users/riaz/miniconda3/envs/cookbook/lib/python3.10/site-packages/huggingface_hub/file_download.py:1132: FutureWarning: `resume_download` is deprecated and will be removed in version 1.0.0. Downloads always resume when possible. If you want to force a new download, use `force_download=True`.\n",
      "  warnings.warn(\n"
     ]
    }
   ],
   "source": [
    "model = AutoModelForSequenceClassification.from_pretrained(checkpoint)"
   ]
  },
  {
   "cell_type": "code",
   "execution_count": 109,
   "metadata": {},
   "outputs": [],
   "source": [
    "#sequence = \"The meaning of life is something I've seldom seek\"\n",
    "sequence = \"The stock market hit hard\""
   ]
  },
  {
   "cell_type": "code",
   "execution_count": 177,
   "metadata": {},
   "outputs": [
    {
     "data": {
      "text/plain": [
       "['the', 'stock', 'market', 'hit', 'hard']"
      ]
     },
     "execution_count": 177,
     "metadata": {},
     "output_type": "execute_result"
    }
   ],
   "source": [
    "tokens = tokenizer.tokenize(sequence)\n",
    "tokens"
   ]
  },
  {
   "cell_type": "code",
   "execution_count": 111,
   "metadata": {},
   "outputs": [],
   "source": [
    "ids = tokenizer.convert_tokens_to_ids(tokens)"
   ]
  },
  {
   "cell_type": "code",
   "execution_count": 112,
   "metadata": {},
   "outputs": [],
   "source": [
    "input_ids = torch.tensor(ids)"
   ]
  },
  {
   "cell_type": "code",
   "execution_count": 113,
   "metadata": {},
   "outputs": [],
   "source": [
    "output = model(input_ids.reshape(1, len(ids)))"
   ]
  },
  {
   "cell_type": "code",
   "execution_count": 114,
   "metadata": {},
   "outputs": [
    {
     "data": {
      "text/plain": [
       "tensor([[ 2.5104, -2.1415]], grad_fn=<AddmmBackward0>)"
      ]
     },
     "execution_count": 114,
     "metadata": {},
     "output_type": "execute_result"
    }
   ],
   "source": [
    "output.logits"
   ]
  },
  {
   "cell_type": "code",
   "execution_count": 115,
   "metadata": {},
   "outputs": [
    {
     "data": {
      "text/plain": [
       "{0: 'NEGATIVE', 1: 'POSITIVE'}"
      ]
     },
     "execution_count": 115,
     "metadata": {},
     "output_type": "execute_result"
    }
   ],
   "source": [
    "# getting the labels for the above logits\n",
    "model.config.id2label"
   ]
  },
  {
   "cell_type": "code",
   "execution_count": 116,
   "metadata": {},
   "outputs": [],
   "source": [
    "# we need to apply a softmax on the logits to get probability\n",
    "predictions = torch.nn.functional.softmax(output.logits, dim=1)"
   ]
  },
  {
   "cell_type": "code",
   "execution_count": 127,
   "metadata": {},
   "outputs": [],
   "source": [
    "# helper function to determine sentiment\n",
    "from collections import namedtuple\n",
    "\n",
    "Sentiment = namedtuple(\"Sentiment\", \"sentiment prob\")\n",
    "def get_sentiment(prediction: torch.Tensor, threshold: float =  0.7) -> Sentiment:\n",
    "    index = torch.argmax(prediction)\n",
    "    prob_lst = prediction.tolist()[0]\n",
    "    index = index.item()    \n",
    "    return Sentiment(index == 1, prob_lst[index])\n"
   ]
  },
  {
   "cell_type": "code",
   "execution_count": 128,
   "metadata": {},
   "outputs": [
    {
     "data": {
      "text/plain": [
       "Sentiment(sentiment=False, prob=0.9905471205711365)"
      ]
     },
     "execution_count": 128,
     "metadata": {},
     "output_type": "execute_result"
    }
   ],
   "source": [
    "pred = get_sentiment(predictions)\n",
    "pred"
   ]
  },
  {
   "cell_type": "code",
   "execution_count": 160,
   "metadata": {},
   "outputs": [],
   "source": [
    "### Writing a function that takes in arbitrary lenght of sentances and returns their sentiments as Sentiment Object\n",
    "\n",
    "def get_sentiments(sentences: list[str], debug=False) -> list[Sentiment]:\n",
    "    tokens = tokenizer(sentences, return_tensors=\"pt\", padding=\"max_length\")    \n",
    "    input_ids = tokens[\"input_ids\"]\n",
    "    output = model(input_ids, attention_mask=tokens[\"attention_mask\"].clone().detach()) # the attention_mask will ignore the padding tokens\n",
    "    if debug:\n",
    "        print(\"Logits\", output.logits)\n",
    "    predictions = torch.nn.functional.softmax(output.logits, dim=1)\n",
    "    return [get_sentiment(torch.Tensor(pred).reshape(1, len(pred))) for pred in predictions.tolist()]\n",
    "    "
   ]
  },
  {
   "cell_type": "code",
   "execution_count": 161,
   "metadata": {},
   "outputs": [],
   "source": [
    "sentences = [\n",
    "   \"The outcome was positive\",\n",
    "   \"The outcome was negative\"\n",
    "]"
   ]
  },
  {
   "cell_type": "code",
   "execution_count": 162,
   "metadata": {},
   "outputs": [
    {
     "data": {
      "text/plain": [
       "[Sentiment(sentiment=True, prob=0.9998314380645752),\n",
       " Sentiment(sentiment=False, prob=0.9997503161430359)]"
      ]
     },
     "execution_count": 162,
     "metadata": {},
     "output_type": "execute_result"
    }
   ],
   "source": [
    "get_sentiments(sentences)"
   ]
  },
  {
   "cell_type": "code",
   "execution_count": 165,
   "metadata": {},
   "outputs": [
    {
     "data": {
      "text/plain": [
       "[Sentiment(sentiment=True, prob=0.9998314380645752)]"
      ]
     },
     "execution_count": 165,
     "metadata": {},
     "output_type": "execute_result"
    }
   ],
   "source": [
    "get_sentiments(sentences[0])"
   ]
  },
  {
   "cell_type": "code",
   "execution_count": 164,
   "metadata": {},
   "outputs": [
    {
     "data": {
      "text/plain": [
       "[Sentiment(sentiment=False, prob=0.9997503161430359)]"
      ]
     },
     "execution_count": 164,
     "metadata": {},
     "output_type": "execute_result"
    }
   ],
   "source": [
    "get_sentiments(sentences[1])"
   ]
  },
  {
   "cell_type": "code",
   "execution_count": 166,
   "metadata": {},
   "outputs": [
    {
     "data": {
      "text/plain": [
       "[Sentiment(sentiment=True, prob=0.9998314380645752),\n",
       " Sentiment(sentiment=False, prob=0.9997503161430359)]"
      ]
     },
     "execution_count": 166,
     "metadata": {},
     "output_type": "execute_result"
    }
   ],
   "source": [
    "get_sentiments(sentences)"
   ]
  },
  {
   "cell_type": "markdown",
   "metadata": {},
   "source": [
    "### Lets run a larger test by checking the sentiments of first page of hacker news"
   ]
  },
  {
   "cell_type": "code",
   "execution_count": 169,
   "metadata": {},
   "outputs": [],
   "source": [
    "def get_title(post_id):\n",
    "    url = f\"https://hacker-news.firebaseio.com/v0/item/{post_id}.json\"\n",
    "    resp = requests.get(url)\n",
    "    if resp.status_code == 200:\n",
    "        json_data = resp.json()\n",
    "        return json_data[\"title\"]\n",
    "    return \"\""
   ]
  },
  {
   "cell_type": "code",
   "execution_count": 170,
   "metadata": {},
   "outputs": [],
   "source": [
    "top_posts_resp = requests.get(\"https://hacker-news.firebaseio.com/v0/topstories.json\")\n",
    "\n",
    "if top_posts_resp.status_code == 200:\n",
    "    top_ids = top_posts_resp.json()[:40]\n",
    "    top_titles = [get_title(_id) for _id in top_ids]\n"
   ]
  },
  {
   "cell_type": "code",
   "execution_count": 172,
   "metadata": {},
   "outputs": [],
   "source": [
    "sentiments = get_sentiments(top_titles)\n"
   ]
  },
  {
   "cell_type": "code",
   "execution_count": 174,
   "metadata": {},
   "outputs": [
    {
     "name": "stdout",
     "output_type": "stream",
     "text": [
      "The Time I Lied to the CTO and Saved the Day  | Sentiment  : False  | Probility 0.9590507745742798 \n",
      "AlphaFold 3 predicts the structure and interactions of life's molecules  | Sentiment  : False  | Probility 0.7783793807029724 \n",
      "Consistency LLM: converting LLMs to parallel decoders accelerates inference 3.5x  | Sentiment  : True  | Probility 0.9795705080032349 \n",
      "A look inside illegal drone deliveries at B.C.'s prisons  | Sentiment  : True  | Probility 0.9969395399093628 \n",
      "Opening Windows in Linux with sockets, bare hands and 200 lines of C  | Sentiment  : False  | Probility 0.9976108074188232 \n",
      "Industrial Design Student Work: \"How Long Should Objects Last?\"  | Sentiment  : False  | Probility 0.9987938404083252 \n",
      "How to Use the Foreign Function API in Java 22 to Call C Libraries  | Sentiment  : False  | Probility 0.9972713589668274 \n",
      "Development Notes from xkcd's \"Machine\"  | Sentiment  : False  | Probility 0.9734192490577698 \n",
      "Show HN: AI climbing coach – visualize how to climb any route based on your body  | Sentiment  : True  | Probility 0.6669753789901733 \n",
      "TimesFM: Time Series Foundation Model for time-series forecasting  | Sentiment  : True  | Probility 0.9310887455940247 \n",
      "Breathwork supports emergence of altered states of consciousness  | Sentiment  : True  | Probility 0.9997443556785583 \n",
      "Show HN: I built a non-linear UI for ChatGPT  | Sentiment  : False  | Probility 0.9975948929786682 \n",
      "Show HN: SimBricks – Modular Full-System Simulation for HW-SW Systems  | Sentiment  : False  | Probility 0.9952829480171204 \n",
      "Radius Full Page Display  | Sentiment  : True  | Probility 0.9972541928291321 \n",
      "Stack Overflow users deleting answers after OpenAI partnership  | Sentiment  : False  | Probility 0.9983161687850952 \n",
      "The Waning Reign of the Muskrat  | Sentiment  : False  | Probility 0.9979186654090881 \n",
      "Pulley system composition – a systematic approach (2020)  | Sentiment  : True  | Probility 0.9931683540344238 \n",
      "Securing Git Repositories with Gittuf  | Sentiment  : True  | Probility 0.6877611875534058 \n",
      "Temporal Fuzzing I: Memory Models (2021)  | Sentiment  : False  | Probility 0.9894139766693115 \n",
      "Empirical Health (YC S23) is hiring engineering leads in NYC  | Sentiment  : True  | Probility 0.8540497422218323 \n",
      "Using AirPods as a Morse Transmitter  | Sentiment  : False  | Probility 0.9898971319198608 \n",
      "Japanese Trade Publications Helped Japan Form a New Graphic Identity (2023)  | Sentiment  : True  | Probility 0.9992349147796631 \n",
      "Zimtohrli: A New Psychoacoustic Perceptual Metric for Audio Compression  | Sentiment  : False  | Probility 0.8450619578361511 \n",
      "Adumbra: A lightweight Java library for bitmap steganography  | Sentiment  : False  | Probility 0.9792433381080627 \n",
      "Steve Albini has died  | Sentiment  : False  | Probility 0.9943576455116272 \n",
      "Launch HN: Baselit (YC W23) – Automatically Reduce Snowflake Costs  | Sentiment  : False  | Probility 0.9916765689849854 \n",
      "'Underwater bicycle' propels swimmers forward at superhuman speed  | Sentiment  : True  | Probility 0.998641312122345 \n",
      "Shell sold carbon credits for carbon that was never captured  | Sentiment  : False  | Probility 0.9987610578536987 \n",
      "OpenAI: Model Spec  | Sentiment  : True  | Probility 0.8468633890151978 \n",
      "How Ahrefs Gets a Billion Dollar-Worth Infrastructure with a 90% Discount  | Sentiment  : True  | Probility 0.9734945893287659 \n",
      "Pair Your Compilers at the ABI Café  | Sentiment  : False  | Probility 0.9974091649055481 \n",
      "A Man Who Raced to Tell the World That Mount Everest Had Been Climbed  | Sentiment  : True  | Probility 0.9979776740074158 \n",
      "Apple introduces M4 chip  | Sentiment  : True  | Probility 0.9882345199584961 \n",
      "Stunningly Preserved Ancient Roman Glassware Turns Up in a French Burial Site  | Sentiment  : True  | Probility 0.9790342450141907 \n",
      "The Bloody History of 'Deadline'  | Sentiment  : False  | Probility 0.9989381432533264 \n",
      "HTML Ruby Markup Extensions Working Draft Published  | Sentiment  : False  | Probility 0.9220231175422668 \n",
      "Homemade liquid nitrogen generator Joule Thomson throttle (2013)  | Sentiment  : False  | Probility 0.9781851768493652 \n",
      "A scientific run-down of coffee blooming  | Sentiment  : False  | Probility 0.9997562766075134 \n",
      "TimeGPT: Production Ready Time Series Foundation Model for Forecasting  | Sentiment  : True  | Probility 0.9530208706855774 \n",
      "Ointers: A library for representing pointers where bits have been stolen (2021)  | Sentiment  : False  | Probility 0.9964855909347534 \n"
     ]
    }
   ],
   "source": [
    "for yc_title, sentiment in zip(top_titles, sentiments):\n",
    "    print(yc_title, f\" | Sentiment  : {sentiment.sentiment}\", f\" | Probility {sentiment.prob} \")"
   ]
  },
  {
   "cell_type": "code",
   "execution_count": null,
   "metadata": {},
   "outputs": [],
   "source": [
    "### Printing all the posts with positive sentiments"
   ]
  },
  {
   "cell_type": "code",
   "execution_count": 175,
   "metadata": {},
   "outputs": [
    {
     "name": "stdout",
     "output_type": "stream",
     "text": [
      "Sentiment(sentiment=True, prob=0.9795705080032349)   Consistency LLM: converting LLMs to parallel decoders accelerates inference 3.5x\n",
      "Sentiment(sentiment=True, prob=0.9969395399093628)   A look inside illegal drone deliveries at B.C.'s prisons\n",
      "Sentiment(sentiment=True, prob=0.6669753789901733)   Show HN: AI climbing coach – visualize how to climb any route based on your body\n",
      "Sentiment(sentiment=True, prob=0.9310887455940247)   TimesFM: Time Series Foundation Model for time-series forecasting\n",
      "Sentiment(sentiment=True, prob=0.9997443556785583)   Breathwork supports emergence of altered states of consciousness\n",
      "Sentiment(sentiment=True, prob=0.9972541928291321)   Radius Full Page Display\n",
      "Sentiment(sentiment=True, prob=0.9931683540344238)   Pulley system composition – a systematic approach (2020)\n",
      "Sentiment(sentiment=True, prob=0.6877611875534058)   Securing Git Repositories with Gittuf\n",
      "Sentiment(sentiment=True, prob=0.8540497422218323)   Empirical Health (YC S23) is hiring engineering leads in NYC\n",
      "Sentiment(sentiment=True, prob=0.9992349147796631)   Japanese Trade Publications Helped Japan Form a New Graphic Identity (2023)\n",
      "Sentiment(sentiment=True, prob=0.998641312122345)   'Underwater bicycle' propels swimmers forward at superhuman speed\n",
      "Sentiment(sentiment=True, prob=0.8468633890151978)   OpenAI: Model Spec\n",
      "Sentiment(sentiment=True, prob=0.9734945893287659)   How Ahrefs Gets a Billion Dollar-Worth Infrastructure with a 90% Discount\n",
      "Sentiment(sentiment=True, prob=0.9979776740074158)   A Man Who Raced to Tell the World That Mount Everest Had Been Climbed\n",
      "Sentiment(sentiment=True, prob=0.9882345199584961)   Apple introduces M4 chip\n",
      "Sentiment(sentiment=True, prob=0.9790342450141907)   Stunningly Preserved Ancient Roman Glassware Turns Up in a French Burial Site\n",
      "Sentiment(sentiment=True, prob=0.9530208706855774)   TimeGPT: Production Ready Time Series Foundation Model for Forecasting\n"
     ]
    }
   ],
   "source": [
    "for idx,sentiment in enumerate(sentiments):\n",
    "    if sentiment.sentiment:\n",
    "        print(sentiment, \" \", top_titles[idx])"
   ]
  },
  {
   "cell_type": "code",
   "execution_count": 176,
   "metadata": {},
   "outputs": [
    {
     "name": "stdout",
     "output_type": "stream",
     "text": [
      "Sentiment(sentiment=False, prob=0.9590507745742798)   The Time I Lied to the CTO and Saved the Day\n",
      "Sentiment(sentiment=False, prob=0.7783793807029724)   AlphaFold 3 predicts the structure and interactions of life's molecules\n",
      "Sentiment(sentiment=False, prob=0.9976108074188232)   Opening Windows in Linux with sockets, bare hands and 200 lines of C\n",
      "Sentiment(sentiment=False, prob=0.9987938404083252)   Industrial Design Student Work: \"How Long Should Objects Last?\"\n",
      "Sentiment(sentiment=False, prob=0.9972713589668274)   How to Use the Foreign Function API in Java 22 to Call C Libraries\n",
      "Sentiment(sentiment=False, prob=0.9734192490577698)   Development Notes from xkcd's \"Machine\"\n",
      "Sentiment(sentiment=False, prob=0.9975948929786682)   Show HN: I built a non-linear UI for ChatGPT\n",
      "Sentiment(sentiment=False, prob=0.9952829480171204)   Show HN: SimBricks – Modular Full-System Simulation for HW-SW Systems\n",
      "Sentiment(sentiment=False, prob=0.9983161687850952)   Stack Overflow users deleting answers after OpenAI partnership\n",
      "Sentiment(sentiment=False, prob=0.9979186654090881)   The Waning Reign of the Muskrat\n",
      "Sentiment(sentiment=False, prob=0.9894139766693115)   Temporal Fuzzing I: Memory Models (2021)\n",
      "Sentiment(sentiment=False, prob=0.9898971319198608)   Using AirPods as a Morse Transmitter\n",
      "Sentiment(sentiment=False, prob=0.8450619578361511)   Zimtohrli: A New Psychoacoustic Perceptual Metric for Audio Compression\n",
      "Sentiment(sentiment=False, prob=0.9792433381080627)   Adumbra: A lightweight Java library for bitmap steganography\n",
      "Sentiment(sentiment=False, prob=0.9943576455116272)   Steve Albini has died\n",
      "Sentiment(sentiment=False, prob=0.9916765689849854)   Launch HN: Baselit (YC W23) – Automatically Reduce Snowflake Costs\n",
      "Sentiment(sentiment=False, prob=0.9987610578536987)   Shell sold carbon credits for carbon that was never captured\n",
      "Sentiment(sentiment=False, prob=0.9974091649055481)   Pair Your Compilers at the ABI Café\n",
      "Sentiment(sentiment=False, prob=0.9989381432533264)   The Bloody History of 'Deadline'\n",
      "Sentiment(sentiment=False, prob=0.9220231175422668)   HTML Ruby Markup Extensions Working Draft Published\n",
      "Sentiment(sentiment=False, prob=0.9781851768493652)   Homemade liquid nitrogen generator Joule Thomson throttle (2013)\n",
      "Sentiment(sentiment=False, prob=0.9997562766075134)   A scientific run-down of coffee blooming\n",
      "Sentiment(sentiment=False, prob=0.9964855909347534)   Ointers: A library for representing pointers where bits have been stolen (2021)\n"
     ]
    }
   ],
   "source": [
    "### getting negative sentiments\n",
    "for idx,sentiment in enumerate(sentiments):\n",
    "    if not sentiment.sentiment:\n",
    "        print(sentiment, \" \", top_titles[idx])"
   ]
  }
 ],
 "metadata": {
  "kernelspec": {
   "display_name": "cookbook",
   "language": "python",
   "name": "python3"
  },
  "language_info": {
   "codemirror_mode": {
    "name": "ipython",
    "version": 3
   },
   "file_extension": ".py",
   "mimetype": "text/x-python",
   "name": "python",
   "nbconvert_exporter": "python",
   "pygments_lexer": "ipython3",
   "version": "3.10.13"
  },
  "orig_nbformat": 4
 },
 "nbformat": 4,
 "nbformat_minor": 2
}
