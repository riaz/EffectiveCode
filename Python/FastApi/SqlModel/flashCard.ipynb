{
 "cells": [
  {
   "cell_type": "code",
   "execution_count": 13,
   "metadata": {},
   "outputs": [],
   "source": [
    "from typing import Optional\n",
    "from sqlmodel import Field, SQLModel, Relationship, Session, create_engine\n",
    "from datetime import datetime "
   ]
  },
  {
   "cell_type": "code",
   "execution_count": null,
   "metadata": {},
   "outputs": [],
   "source": [
    "### Tables\n",
    "class UserOrgLink(SQLModel, table=True):\n",
    "    user_id: int | None = Field( foreign_key=\"user.uuid\", primary_key=True)\n",
    "    org_id: int | None = Field(foreign_key=\"org.uuid\", primary_key=True)"
   ]
  },
  {
   "cell_type": "code",
   "execution_count": 14,
   "metadata": {},
   "outputs": [
    {
     "ename": "SchemaError",
     "evalue": "Invalid Schema:\nmodel.schema.model-fields.fields.date_joined.schema.default.default_factory\n  Input should be callable [type=callable_type, input_value=datetime.datetime(2024, 7, 7, 19, 21, 19, 454789), input_type=datetime]\n    For further information visit https://errors.pydantic.dev/2.7/v/callable_type\nmodel.schema.model-fields.fields.last_login.schema.default.default_factory\n  Input should be callable [type=callable_type, input_value=datetime.datetime(2024, 7, 7, 19, 21, 19, 454807), input_type=datetime]\n    For further information visit https://errors.pydantic.dev/2.7/v/callable_type",
     "output_type": "error",
     "traceback": [
      "\u001b[0;31m---------------------------------------------------------------------------\u001b[0m",
      "\u001b[0;31mSchemaError\u001b[0m                               Traceback (most recent call last)",
      "\u001b[1;32m/Users/riaz/EffectiveCode/Python/FastApi/SqlModel/flashCard.ipynb Cell 3\u001b[0m line \u001b[0;36m1\n\u001b[0;32m----> <a href='vscode-notebook-cell:/Users/riaz/EffectiveCode/Python/FastApi/SqlModel/flashCard.ipynb#W2sZmlsZQ%3D%3D?line=0'>1</a>\u001b[0m \u001b[39mclass\u001b[39;00m \u001b[39mUser\u001b[39;00m(SQLModel, table\u001b[39m=\u001b[39m\u001b[39mTrue\u001b[39;00m):\n\u001b[1;32m      <a href='vscode-notebook-cell:/Users/riaz/EffectiveCode/Python/FastApi/SqlModel/flashCard.ipynb#W2sZmlsZQ%3D%3D?line=1'>2</a>\u001b[0m     uuid: \u001b[39mint\u001b[39m \u001b[39m=\u001b[39m Field(primary_key\u001b[39m=\u001b[39m\u001b[39mTrue\u001b[39;00m)\n\u001b[1;32m      <a href='vscode-notebook-cell:/Users/riaz/EffectiveCode/Python/FastApi/SqlModel/flashCard.ipynb#W2sZmlsZQ%3D%3D?line=2'>3</a>\u001b[0m     first_name: \u001b[39mstr\u001b[39m \n",
      "File \u001b[0;32m~/miniconda3/envs/cookbook/lib/python3.10/site-packages/sqlmodel/main.py:455\u001b[0m, in \u001b[0;36mSQLModelMetaclass.__new__\u001b[0;34m(cls, name, bases, class_dict, **kwargs)\u001b[0m\n\u001b[1;32m    445\u001b[0m allowed_config_kwargs: Set[\u001b[39mstr\u001b[39m] \u001b[39m=\u001b[39m {\n\u001b[1;32m    446\u001b[0m     key\n\u001b[1;32m    447\u001b[0m     \u001b[39mfor\u001b[39;00m key \u001b[39min\u001b[39;00m \u001b[39mdir\u001b[39m(BaseConfig)\n\u001b[0;32m   (...)\u001b[0m\n\u001b[1;32m    450\u001b[0m     )  \u001b[39m# skip dunder methods and attributes\u001b[39;00m\n\u001b[1;32m    451\u001b[0m }\n\u001b[1;32m    452\u001b[0m config_kwargs \u001b[39m=\u001b[39m {\n\u001b[1;32m    453\u001b[0m     key: kwargs[key] \u001b[39mfor\u001b[39;00m key \u001b[39min\u001b[39;00m kwargs\u001b[39m.\u001b[39mkeys() \u001b[39m&\u001b[39m allowed_config_kwargs\n\u001b[1;32m    454\u001b[0m }\n\u001b[0;32m--> 455\u001b[0m new_cls \u001b[39m=\u001b[39m \u001b[39msuper\u001b[39;49m()\u001b[39m.\u001b[39;49m\u001b[39m__new__\u001b[39;49m(\u001b[39mcls\u001b[39;49m, name, bases, dict_used, \u001b[39m*\u001b[39;49m\u001b[39m*\u001b[39;49mconfig_kwargs)\n\u001b[1;32m    456\u001b[0m new_cls\u001b[39m.\u001b[39m\u001b[39m__annotations__\u001b[39m \u001b[39m=\u001b[39m {\n\u001b[1;32m    457\u001b[0m     \u001b[39m*\u001b[39m\u001b[39m*\u001b[39mrelationship_annotations,\n\u001b[1;32m    458\u001b[0m     \u001b[39m*\u001b[39m\u001b[39m*\u001b[39mpydantic_annotations,\n\u001b[1;32m    459\u001b[0m     \u001b[39m*\u001b[39m\u001b[39m*\u001b[39mnew_cls\u001b[39m.\u001b[39m\u001b[39m__annotations__\u001b[39m,\n\u001b[1;32m    460\u001b[0m }\n\u001b[1;32m    462\u001b[0m \u001b[39mdef\u001b[39;00m \u001b[39mget_config\u001b[39m(name: \u001b[39mstr\u001b[39m) \u001b[39m-\u001b[39m\u001b[39m>\u001b[39m Any:\n",
      "File \u001b[0;32m~/miniconda3/envs/cookbook/lib/python3.10/site-packages/pydantic/_internal/_model_construction.py:202\u001b[0m, in \u001b[0;36mModelMetaclass.__new__\u001b[0;34m(mcs, cls_name, bases, namespace, __pydantic_generic_metadata__, __pydantic_reset_parent_namespace__, _create_model_module, **kwargs)\u001b[0m\n\u001b[1;32m    199\u001b[0m \u001b[39mif\u001b[39;00m config_wrapper\u001b[39m.\u001b[39mfrozen \u001b[39mand\u001b[39;00m \u001b[39m'\u001b[39m\u001b[39m__hash__\u001b[39m\u001b[39m'\u001b[39m \u001b[39mnot\u001b[39;00m \u001b[39min\u001b[39;00m namespace:\n\u001b[1;32m    200\u001b[0m     set_default_hash_func(\u001b[39mcls\u001b[39m, bases)\n\u001b[0;32m--> 202\u001b[0m complete_model_class(\n\u001b[1;32m    203\u001b[0m     \u001b[39mcls\u001b[39;49m,\n\u001b[1;32m    204\u001b[0m     cls_name,\n\u001b[1;32m    205\u001b[0m     config_wrapper,\n\u001b[1;32m    206\u001b[0m     raise_errors\u001b[39m=\u001b[39;49m\u001b[39mFalse\u001b[39;49;00m,\n\u001b[1;32m    207\u001b[0m     types_namespace\u001b[39m=\u001b[39;49mtypes_namespace,\n\u001b[1;32m    208\u001b[0m     create_model_module\u001b[39m=\u001b[39;49m_create_model_module,\n\u001b[1;32m    209\u001b[0m )\n\u001b[1;32m    211\u001b[0m \u001b[39m# If this is placed before the complete_model_class call above,\u001b[39;00m\n\u001b[1;32m    212\u001b[0m \u001b[39m# the generic computed fields return type is set to PydanticUndefined\u001b[39;00m\n\u001b[1;32m    213\u001b[0m \u001b[39mcls\u001b[39m\u001b[39m.\u001b[39mmodel_computed_fields \u001b[39m=\u001b[39m {k: v\u001b[39m.\u001b[39minfo \u001b[39mfor\u001b[39;00m k, v \u001b[39min\u001b[39;00m \u001b[39mcls\u001b[39m\u001b[39m.\u001b[39m__pydantic_decorators__\u001b[39m.\u001b[39mcomputed_fields\u001b[39m.\u001b[39mitems()}\n",
      "File \u001b[0;32m~/miniconda3/envs/cookbook/lib/python3.10/site-packages/pydantic/_internal/_model_construction.py:549\u001b[0m, in \u001b[0;36mcomplete_model_class\u001b[0;34m(cls, cls_name, config_wrapper, raise_errors, types_namespace, create_model_module)\u001b[0m\n\u001b[1;32m    546\u001b[0m core_config \u001b[39m=\u001b[39m config_wrapper\u001b[39m.\u001b[39mcore_config(\u001b[39mcls\u001b[39m)\n\u001b[1;32m    548\u001b[0m \u001b[39mtry\u001b[39;00m:\n\u001b[0;32m--> 549\u001b[0m     schema \u001b[39m=\u001b[39m gen_schema\u001b[39m.\u001b[39;49mclean_schema(schema)\n\u001b[1;32m    550\u001b[0m \u001b[39mexcept\u001b[39;00m gen_schema\u001b[39m.\u001b[39mCollectedInvalid:\n\u001b[1;32m    551\u001b[0m     set_model_mocks(\u001b[39mcls\u001b[39m, cls_name)\n",
      "File \u001b[0;32m~/miniconda3/envs/cookbook/lib/python3.10/site-packages/pydantic/_internal/_generate_schema.py:442\u001b[0m, in \u001b[0;36mGenerateSchema.clean_schema\u001b[0;34m(self, schema)\u001b[0m\n\u001b[1;32m    440\u001b[0m     \u001b[39mraise\u001b[39;00m \u001b[39mself\u001b[39m\u001b[39m.\u001b[39mCollectedInvalid()\n\u001b[1;32m    441\u001b[0m schema \u001b[39m=\u001b[39m _discriminated_union\u001b[39m.\u001b[39mapply_discriminators(schema)\n\u001b[0;32m--> 442\u001b[0m schema \u001b[39m=\u001b[39m validate_core_schema(schema)\n\u001b[1;32m    443\u001b[0m \u001b[39mreturn\u001b[39;00m schema\n",
      "File \u001b[0;32m~/miniconda3/envs/cookbook/lib/python3.10/site-packages/pydantic/_internal/_core_utils.py:568\u001b[0m, in \u001b[0;36mvalidate_core_schema\u001b[0;34m(schema)\u001b[0m\n\u001b[1;32m    566\u001b[0m \u001b[39mif\u001b[39;00m \u001b[39m'\u001b[39m\u001b[39mPYDANTIC_SKIP_VALIDATING_CORE_SCHEMAS\u001b[39m\u001b[39m'\u001b[39m \u001b[39min\u001b[39;00m os\u001b[39m.\u001b[39menviron:\n\u001b[1;32m    567\u001b[0m     \u001b[39mreturn\u001b[39;00m schema\n\u001b[0;32m--> 568\u001b[0m \u001b[39mreturn\u001b[39;00m _validate_core_schema(schema)\n",
      "\u001b[0;31mSchemaError\u001b[0m: Invalid Schema:\nmodel.schema.model-fields.fields.date_joined.schema.default.default_factory\n  Input should be callable [type=callable_type, input_value=datetime.datetime(2024, 7, 7, 19, 21, 19, 454789), input_type=datetime]\n    For further information visit https://errors.pydantic.dev/2.7/v/callable_type\nmodel.schema.model-fields.fields.last_login.schema.default.default_factory\n  Input should be callable [type=callable_type, input_value=datetime.datetime(2024, 7, 7, 19, 21, 19, 454807), input_type=datetime]\n    For further information visit https://errors.pydantic.dev/2.7/v/callable_type"
     ]
    }
   ],
   "source": [
    "class User(SQLModel, table=True):\n",
    "    uuid: int = Field(primary_key=True)\n",
    "    first_name: str \n",
    "    last_name: str\n",
    "    email : str\n",
    "    affiliation: str    \n",
    "    date_joined: datetime = Field(default_factory=datetime.now(), nullable=False)\n",
    "    last_login: datetime = Field(default_factory=datetime.now(), nullable=False)\n",
    "    is_authenticated: bool = Field(default=False)\n",
    "\n",
    "    org_id: Optional[int] = Relationship(back_populates=\"org_id\", link_model=UserOrgLink)\n",
    "\n",
    "class Org(SQLModel, table=True):\n",
    "    uuid: int = Field(primary_key=True)\n",
    "    name: str\n",
    "    type: str\n",
    "    members: int = Field(default=0)\n",
    "    date_created: datetime.datetime = Field(default_factory=datetime.now(datetime.UTC), nullable=False)\n",
    "    is_authenticated: bool = Field(default=False)"
   ]
  },
  {
   "cell_type": "code",
   "execution_count": null,
   "metadata": {},
   "outputs": [],
   "source": []
  }
 ],
 "metadata": {
  "kernelspec": {
   "display_name": "cookbook",
   "language": "python",
   "name": "python3"
  },
  "language_info": {
   "codemirror_mode": {
    "name": "ipython",
    "version": 3
   },
   "file_extension": ".py",
   "mimetype": "text/x-python",
   "name": "python",
   "nbconvert_exporter": "python",
   "pygments_lexer": "ipython3",
   "version": "3.10.13"
  },
  "orig_nbformat": 4
 },
 "nbformat": 4,
 "nbformat_minor": 2
}
