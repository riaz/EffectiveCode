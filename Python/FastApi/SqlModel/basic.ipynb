{
 "cells": [
  {
   "cell_type": "code",
   "execution_count": 1,
   "metadata": {},
   "outputs": [],
   "source": [
    "from typing import Optional\n",
    "from sqlmodel import Field, SQLModel\n",
    "\n",
    "class Hero(SQLModel, table=True):\n",
    "    id: Optional[int] = Field(default=None, primary_key=True)\n",
    "    name: str \n",
    "    secret_name: str\n",
    "    age: Optional[int] = Field(default=None)\n"
   ]
  },
  {
   "cell_type": "code",
   "execution_count": 2,
   "metadata": {},
   "outputs": [],
   "source": [
    "# creating rows from the above instance\n",
    "\n",
    "hero_1 = Hero(name=\"Deadpond\", secret_name=\"Demo\")\n",
    "hero_2 = Hero(name=\"Tom\", secret_name=\"Harry\")"
   ]
  },
  {
   "cell_type": "code",
   "execution_count": 3,
   "metadata": {},
   "outputs": [],
   "source": [
    "from sqlmodel import Session, create_engine\n",
    "# writing to the database using the sqlite engine\n",
    "\n",
    "engine = create_engine(\"sqlite:///database.db\")"
   ]
  },
  {
   "cell_type": "code",
   "execution_count": 4,
   "metadata": {},
   "outputs": [],
   "source": [
    "SQLModel.metadata.create_all(engine) # this will create all the tables in the database if not empty"
   ]
  },
  {
   "cell_type": "code",
   "execution_count": 5,
   "metadata": {},
   "outputs": [],
   "source": [
    "with Session(engine) as session:\n",
    "    session.add(hero_1)\n",
    "    session.add(hero_2)\n",
    "    session.commit()\n"
   ]
  },
  {
   "cell_type": "code",
   "execution_count": null,
   "metadata": {},
   "outputs": [],
   "source": [
    "### Selecting from the database"
   ]
  },
  {
   "cell_type": "code",
   "execution_count": 6,
   "metadata": {},
   "outputs": [
    {
     "name": "stdout",
     "output_type": "stream",
     "text": [
      "secret_name='Harry' age=None id=2 name='Tom'\n"
     ]
    }
   ],
   "source": [
    "from sqlmodel import select\n",
    "\n",
    "with Session(engine) as session:\n",
    "    statement = select(Hero).where(Hero.name == \"Tom\")\n",
    "    select_records = session.exec(statement).first()\n",
    "    print(select_records)"
   ]
  }
 ],
 "metadata": {
  "kernelspec": {
   "display_name": "cookbook",
   "language": "python",
   "name": "python3"
  },
  "language_info": {
   "codemirror_mode": {
    "name": "ipython",
    "version": 3
   },
   "file_extension": ".py",
   "mimetype": "text/x-python",
   "name": "python",
   "nbconvert_exporter": "python",
   "pygments_lexer": "ipython3",
   "version": "3.10.13"
  },
  "orig_nbformat": 4
 },
 "nbformat": 4,
 "nbformat_minor": 2
}
