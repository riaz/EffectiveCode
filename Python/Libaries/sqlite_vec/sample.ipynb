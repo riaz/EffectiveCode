{
 "cells": [
  {
   "cell_type": "code",
   "execution_count": 26,
   "metadata": {},
   "outputs": [],
   "source": [
    "import sqlite3\n",
    "import sqlite_vec"
   ]
  },
  {
   "cell_type": "code",
   "execution_count": 21,
   "metadata": {},
   "outputs": [],
   "source": [
    "import struct"
   ]
  },
  {
   "cell_type": "code",
   "execution_count": 24,
   "metadata": {},
   "outputs": [],
   "source": [
    "# serializing f_32\n",
    "def serialize_f32(vector: list[float]) -> bytes:\n",
    "    \"\"\"serializes a list of floats into a compact \"raw bytes\" format\"\"\"\n",
    "    return struct.pack(\"%sf\" % len(vector), *vector)"
   ]
  },
  {
   "cell_type": "code",
   "execution_count": 27,
   "metadata": {},
   "outputs": [],
   "source": [
    "db = sqlite3.connect(\":memory:\") # maybe this doesn't create a file?"
   ]
  },
  {
   "cell_type": "code",
   "execution_count": 28,
   "metadata": {},
   "outputs": [],
   "source": [
    "db.enable_load_extension(True) # needed to load the db to sqlite "
   ]
  },
  {
   "cell_type": "code",
   "execution_count": 29,
   "metadata": {},
   "outputs": [],
   "source": [
    "sqlite_vec.load(db)"
   ]
  },
  {
   "cell_type": "code",
   "execution_count": 30,
   "metadata": {},
   "outputs": [],
   "source": [
    "db.enable_load_extension(False) # we may remove this , for better performance"
   ]
  },
  {
   "cell_type": "code",
   "execution_count": 31,
   "metadata": {},
   "outputs": [],
   "source": [
    "sqlite_version, vec_version = db.execute(\n",
    "    \"select sqlite_version(), vec_version()\"\n",
    ").fetchone()"
   ]
  },
  {
   "cell_type": "code",
   "execution_count": 32,
   "metadata": {},
   "outputs": [
    {
     "name": "stdout",
     "output_type": "stream",
     "text": [
      "sqlite version: 3.41.2, vec_version: v0.1.1\n"
     ]
    }
   ],
   "source": [
    "print(f\"sqlite version: {sqlite_version}, vec_version: {vec_version}\")"
   ]
  },
  {
   "cell_type": "code",
   "execution_count": 33,
   "metadata": {},
   "outputs": [],
   "source": [
    "# creating some dummy data\n",
    "\n",
    "items = [\n",
    "    (1, [0.1, 0.1, 0.1, 0.1]),\n",
    "    (2, [0.2, 0.2, 0.2, 0.2]),\n",
    "    (3, [0.3, 0.3, 0.3, 0.3]),\n",
    "    (4, [0.4, 0.4, 0.4, 0.4]),\n",
    "    (5, [0.5, 0.5, 0.5, 0.5]),\n",
    "]\n",
    "\n",
    "query = [0.3, 0.3, 0.3, 0.3]"
   ]
  },
  {
   "cell_type": "code",
   "execution_count": 34,
   "metadata": {},
   "outputs": [
    {
     "data": {
      "text/plain": [
       "<sqlite3.Cursor at 0x121b7cfc0>"
      ]
     },
     "execution_count": 34,
     "metadata": {},
     "output_type": "execute_result"
    }
   ],
   "source": [
    "# creating a virtual table with the above dummy values\n",
    "# this could be interpreted as -> create a table vec_items with column vec0 -> embeddings of size 4 type float\n",
    "db.execute(\"\"\"CREATE VIRTUAL TABLE vec_items USING vec0(embedding float[4])\"\"\")"
   ]
  },
  {
   "cell_type": "code",
   "execution_count": 35,
   "metadata": {},
   "outputs": [],
   "source": [
    "with db: # context\n",
    "    for item in items:\n",
    "        db.execute(\n",
    "            \"\"\"\n",
    "                INSERT INTO vec_items(rowid, embedding) VALUES (?, ?)\n",
    "            \"\"\", [item[0], serialize_f32(item[1])]\n",
    "        )\n"
   ]
  },
  {
   "cell_type": "code",
   "execution_count": 36,
   "metadata": {},
   "outputs": [],
   "source": [
    "### Querying the vector database\n",
    "\n",
    "rows = db.execute(\n",
    "    \"\"\"\n",
    "    SELECT rowid, distance FROM vec_items\n",
    "    WHERE embedding MATCH ? ORDER BY distance LIMIT 3\n",
    "    \"\"\",\n",
    "    [serialize_f32(query)]\n",
    ").fetchall()"
   ]
  },
  {
   "cell_type": "code",
   "execution_count": 37,
   "metadata": {},
   "outputs": [
    {
     "name": "stdout",
     "output_type": "stream",
     "text": [
      "[(3, 0.0), (4, 0.19999998807907104), (2, 0.20000001788139343)]\n"
     ]
    }
   ],
   "source": [
    "print(rows)"
   ]
  },
  {
   "cell_type": "code",
   "execution_count": 48,
   "metadata": {},
   "outputs": [],
   "source": [
    "# Lets make this modular and do some asserts to test the validity\n",
    "\n",
    "def get_top_k(k:int, query: list[float]):\n",
    "    rows = db.execute(\n",
    "    \"\"\"\n",
    "    SELECT rowid, distance FROM vec_items\n",
    "    WHERE embedding MATCH ? ORDER BY distance LIMIT ?\n",
    "    \"\"\",\n",
    "    (serialize_f32(query), k)\n",
    "    ).fetchall()\n",
    "    return rows"
   ]
  },
  {
   "cell_type": "code",
   "execution_count": 51,
   "metadata": {},
   "outputs": [],
   "source": [
    "assert get_top_k(1, [0.2, 0.2, 0.2, 0.2])[0][0] == 2\n",
    "assert get_top_k(1, [0.3, 0.3, 0.3, 0.3])[0][0] == 3\n",
    "assert get_top_k(1, [0.4, 0.4, 0.4, 0.4])[0][0] == 4\n",
    "assert get_top_k(1, [0.5, 0.5, 0.5, 0.5])[0][0] == 5\n",
    "assert get_top_k(1, [0.1, 0.1, 0.1, 0.1])[0][0] == 1"
   ]
  }
 ],
 "metadata": {
  "kernelspec": {
   "display_name": "cookbook",
   "language": "python",
   "name": "python3"
  },
  "language_info": {
   "codemirror_mode": {
    "name": "ipython",
    "version": 3
   },
   "file_extension": ".py",
   "mimetype": "text/x-python",
   "name": "python",
   "nbconvert_exporter": "python",
   "pygments_lexer": "ipython3",
   "version": "3.10.13"
  },
  "orig_nbformat": 4
 },
 "nbformat": 4,
 "nbformat_minor": 2
}
