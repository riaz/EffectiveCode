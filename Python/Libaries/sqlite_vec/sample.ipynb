{
 "cells": [
  {
   "cell_type": "code",
   "execution_count": 26,
   "metadata": {},
   "outputs": [],
   "source": [
    "import sqlite3\n",
    "import sqlite_vec"
   ]
  },
  {
   "cell_type": "code",
   "execution_count": 21,
   "metadata": {},
   "outputs": [],
   "source": [
    "import struct"
   ]
  },
  {
   "cell_type": "code",
   "execution_count": 24,
   "metadata": {},
   "outputs": [],
   "source": [
    "# serializing f_32\n",
    "def serialize_f32(vector: list[float]) -> bytes:\n",
    "    \"\"\"serializes a list of floats into a compact \"raw bytes\" format\"\"\"\n",
    "    return struct.pack(\"%sf\" % len(vector), *vector)"
   ]
  },
  {
   "cell_type": "code",
   "execution_count": 27,
   "metadata": {},
   "outputs": [],
   "source": [
    "db = sqlite3.connect(\":memory:\") # maybe this doesn't create a file?"
   ]
  },
  {
   "cell_type": "code",
   "execution_count": 28,
   "metadata": {},
   "outputs": [],
   "source": [
    "db.enable_load_extension(True) # needed to load the db to sqlite "
   ]
  },
  {
   "cell_type": "code",
   "execution_count": 29,
   "metadata": {},
   "outputs": [],
   "source": [
    "sqlite_vec.load(db)"
   ]
  },
  {
   "cell_type": "code",
   "execution_count": 30,
   "metadata": {},
   "outputs": [],
   "source": [
    "db.enable_load_extension(False) # we may remove this , for better performance"
   ]
  },
  {
   "cell_type": "code",
   "execution_count": 31,
   "metadata": {},
   "outputs": [],
   "source": [
    "sqlite_version, vec_version = db.execute(\n",
    "    \"select sqlite_version(), vec_version()\"\n",
    ").fetchone()"
   ]
  },
  {
   "cell_type": "code",
   "execution_count": 32,
   "metadata": {},
   "outputs": [
    {
     "name": "stdout",
     "output_type": "stream",
     "text": [
      "sqlite version: 3.41.2, vec_version: v0.1.1\n"
     ]
    }
   ],
   "source": [
    "print(f\"sqlite version: {sqlite_version}, vec_version: {vec_version}\")"
   ]
  },
  {
   "cell_type": "code",
   "execution_count": 33,
   "metadata": {},
   "outputs": [],
   "source": [
    "# creating some dummy data\n",
    "\n",
    "items = [\n",
    "    (1, [0.1, 0.1, 0.1, 0.1]),\n",
    "    (2, [0.2, 0.2, 0.2, 0.2]),\n",
    "    (3, [0.3, 0.3, 0.3, 0.3]),\n",
    "    (4, [0.4, 0.4, 0.4, 0.4]),\n",
    "    (5, [0.5, 0.5, 0.5, 0.5]),\n",
    "]\n",
    "\n",
    "query = [0.3, 0.3, 0.3, 0.3]"
   ]
  },
  {
   "cell_type": "code",
   "execution_count": 34,
   "metadata": {},
   "outputs": [
    {
     "data": {
      "text/plain": [
       "<sqlite3.Cursor at 0x121b7cfc0>"
      ]
     },
     "execution_count": 34,
     "metadata": {},
     "output_type": "execute_result"
    }
   ],
   "source": [
    "# creating a virtual table with the above dummy values\n",
    "# this could be interpreted as -> create a table vec_items with column vec0 -> embeddings of size 4 type float\n",
    "db.execute(\"\"\"CREATE VIRTUAL TABLE vec_items USING vec0(embedding float[4])\"\"\")"
   ]
  },
  {
   "cell_type": "code",
   "execution_count": 35,
   "metadata": {},
   "outputs": [],
   "source": [
    "with db: # context\n",
    "    for item in items:\n",
    "        db.execute(\n",
    "            \"\"\"\n",
    "                INSERT INTO vec_items(rowid, embedding) VALUES (?, ?)\n",
    "            \"\"\", [item[0], serialize_f32(item[1])]\n",
    "        )\n"
   ]
  },
  {
   "cell_type": "code",
   "execution_count": 36,
   "metadata": {},
   "outputs": [],
   "source": [
    "### Querying the vector database\n",
    "\n",
    "rows = db.execute(\n",
    "    \"\"\"\n",
    "    SELECT rowid, distance FROM vec_items\n",
    "    WHERE embedding MATCH ? ORDER BY distance LIMIT 3\n",
    "    \"\"\",\n",
    "    [serialize_f32(query)]\n",
    ").fetchall()"
   ]
  },
  {
   "cell_type": "code",
   "execution_count": 37,
   "metadata": {},
   "outputs": [
    {
     "name": "stdout",
     "output_type": "stream",
     "text": [
      "[(3, 0.0), (4, 0.19999998807907104), (2, 0.20000001788139343)]\n"
     ]
    }
   ],
   "source": [
    "print(rows)"
   ]
  },
  {
   "cell_type": "code",
   "execution_count": 40,
   "metadata": {},
   "outputs": [],
   "source": [
    "# Lets make this modular and do some asserts to test the validity\n",
    "\n",
    "def get_top_k(k:int, query: list[float]):\n",
    "    rows = db.execute(\n",
    "    \"\"\"\n",
    "    SELECT rowid, distance FROM vec_items\n",
    "    WHERE embedding MATCH ? ORDER BY distance LIMIT ?\n",
    "    \"\"\",\n",
    "    (serialize_f32(query), k)\n",
    "    ).fetchall()\n",
    "    return rows"
   ]
  },
  {
   "cell_type": "code",
   "execution_count": 41,
   "metadata": {},
   "outputs": [
    {
     "ename": "TypeError",
     "evalue": "object of type 'int' has no len()",
     "output_type": "error",
     "traceback": [
      "\u001b[0;31m---------------------------------------------------------------------------\u001b[0m",
      "\u001b[0;31mTypeError\u001b[0m                                 Traceback (most recent call last)",
      "\u001b[1;32m/Users/riaz/EffectiveCode/Python/Libaries/sqlite_vec/sample.ipynb Cell 16\u001b[0m line \u001b[0;36m1\n\u001b[0;32m----> <a href='vscode-notebook-cell:/Users/riaz/EffectiveCode/Python/Libaries/sqlite_vec/sample.ipynb#X21sZmlsZQ%3D%3D?line=0'>1</a>\u001b[0m get_top_k([\u001b[39m0.2\u001b[39;49m, \u001b[39m0.2\u001b[39;49m, \u001b[39m0.2\u001b[39;49m, \u001b[39m0.2\u001b[39;49m], \u001b[39m1\u001b[39;49m)\n",
      "\u001b[1;32m/Users/riaz/EffectiveCode/Python/Libaries/sqlite_vec/sample.ipynb Cell 16\u001b[0m line \u001b[0;36m9\n\u001b[1;32m      <a href='vscode-notebook-cell:/Users/riaz/EffectiveCode/Python/Libaries/sqlite_vec/sample.ipynb#X21sZmlsZQ%3D%3D?line=2'>3</a>\u001b[0m \u001b[39mdef\u001b[39;00m \u001b[39mget_top_k\u001b[39m(k:\u001b[39mint\u001b[39m, query: \u001b[39mlist\u001b[39m[\u001b[39mfloat\u001b[39m]):\n\u001b[1;32m      <a href='vscode-notebook-cell:/Users/riaz/EffectiveCode/Python/Libaries/sqlite_vec/sample.ipynb#X21sZmlsZQ%3D%3D?line=3'>4</a>\u001b[0m     rows \u001b[39m=\u001b[39m db\u001b[39m.\u001b[39mexecute(\n\u001b[1;32m      <a href='vscode-notebook-cell:/Users/riaz/EffectiveCode/Python/Libaries/sqlite_vec/sample.ipynb#X21sZmlsZQ%3D%3D?line=4'>5</a>\u001b[0m \u001b[39m    \u001b[39m\u001b[39m\"\"\"\u001b[39;00m\n\u001b[1;32m      <a href='vscode-notebook-cell:/Users/riaz/EffectiveCode/Python/Libaries/sqlite_vec/sample.ipynb#X21sZmlsZQ%3D%3D?line=5'>6</a>\u001b[0m \u001b[39m    SELECT rowid, distance FROM vec_items\u001b[39;00m\n\u001b[1;32m      <a href='vscode-notebook-cell:/Users/riaz/EffectiveCode/Python/Libaries/sqlite_vec/sample.ipynb#X21sZmlsZQ%3D%3D?line=6'>7</a>\u001b[0m \u001b[39m    WHERE embedding MATCH ? ORDER BY distance LIMIT ?\u001b[39;00m\n\u001b[1;32m      <a href='vscode-notebook-cell:/Users/riaz/EffectiveCode/Python/Libaries/sqlite_vec/sample.ipynb#X21sZmlsZQ%3D%3D?line=7'>8</a>\u001b[0m \u001b[39m    \"\"\"\u001b[39;00m,\n\u001b[0;32m----> <a href='vscode-notebook-cell:/Users/riaz/EffectiveCode/Python/Libaries/sqlite_vec/sample.ipynb#X21sZmlsZQ%3D%3D?line=8'>9</a>\u001b[0m     [serialize_f32(query), k]\n\u001b[1;32m     <a href='vscode-notebook-cell:/Users/riaz/EffectiveCode/Python/Libaries/sqlite_vec/sample.ipynb#X21sZmlsZQ%3D%3D?line=9'>10</a>\u001b[0m     )\u001b[39m.\u001b[39mfetchall()\n\u001b[1;32m     <a href='vscode-notebook-cell:/Users/riaz/EffectiveCode/Python/Libaries/sqlite_vec/sample.ipynb#X21sZmlsZQ%3D%3D?line=10'>11</a>\u001b[0m     \u001b[39mreturn\u001b[39;00m rows\n",
      "\u001b[1;32m/Users/riaz/EffectiveCode/Python/Libaries/sqlite_vec/sample.ipynb Cell 16\u001b[0m line \u001b[0;36m4\n\u001b[1;32m      <a href='vscode-notebook-cell:/Users/riaz/EffectiveCode/Python/Libaries/sqlite_vec/sample.ipynb#X21sZmlsZQ%3D%3D?line=1'>2</a>\u001b[0m \u001b[39mdef\u001b[39;00m \u001b[39mserialize_f32\u001b[39m(vector: \u001b[39mlist\u001b[39m[\u001b[39mfloat\u001b[39m]) \u001b[39m-\u001b[39m\u001b[39m>\u001b[39m \u001b[39mbytes\u001b[39m:\n\u001b[1;32m      <a href='vscode-notebook-cell:/Users/riaz/EffectiveCode/Python/Libaries/sqlite_vec/sample.ipynb#X21sZmlsZQ%3D%3D?line=2'>3</a>\u001b[0m \u001b[39m    \u001b[39m\u001b[39m\"\"\"serializes a list of floats into a compact \"raw bytes\" format\"\"\"\u001b[39;00m\n\u001b[0;32m----> <a href='vscode-notebook-cell:/Users/riaz/EffectiveCode/Python/Libaries/sqlite_vec/sample.ipynb#X21sZmlsZQ%3D%3D?line=3'>4</a>\u001b[0m     \u001b[39mreturn\u001b[39;00m struct\u001b[39m.\u001b[39mpack(\u001b[39m\"\u001b[39m\u001b[39m%s\u001b[39;00m\u001b[39mf\u001b[39m\u001b[39m\"\u001b[39m \u001b[39m%\u001b[39m \u001b[39mlen\u001b[39;49m(vector), \u001b[39m*\u001b[39mvector)\n",
      "\u001b[0;31mTypeError\u001b[0m: object of type 'int' has no len()"
     ]
    }
   ],
   "source": [
    "get_top_k([0.2, 0.2, 0.2, 0.2], 1)"
   ]
  }
 ],
 "metadata": {
  "kernelspec": {
   "display_name": "cookbook",
   "language": "python",
   "name": "python3"
  },
  "language_info": {
   "codemirror_mode": {
    "name": "ipython",
    "version": 3
   },
   "file_extension": ".py",
   "mimetype": "text/x-python",
   "name": "python",
   "nbconvert_exporter": "python",
   "pygments_lexer": "ipython3",
   "version": "3.10.13"
  },
  "orig_nbformat": 4
 },
 "nbformat": 4,
 "nbformat_minor": 2
}
